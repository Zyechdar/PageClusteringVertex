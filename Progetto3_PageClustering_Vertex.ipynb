{
  "nbformat": 4,
  "nbformat_minor": 0,
  "metadata": {
    "colab": {
      "name": "Progetto3_PageClustering_Vertex.ipynb",
      "provenance": [],
      "collapsed_sections": []
    },
    "kernelspec": {
      "display_name": "Python 3",
      "name": "python3"
    }
  },
  "cells": [
    {
      "cell_type": "code",
      "metadata": {
        "colab": {
          "base_uri": "https://localhost:8080/"
        },
        "id": "gm0_epFUGCKY",
        "outputId": "b77f04fb-7f1a-449c-d0b4-b2035e3d6978"
      },
      "source": [
        "!pip install crccheck"
      ],
      "execution_count": null,
      "outputs": [
        {
          "output_type": "stream",
          "text": [
            "Collecting crccheck\n",
            "  Downloading https://files.pythonhosted.org/packages/df/4c/6937c142a315edc436e223aa936a57dd846751b3be37f43da0d9037f630b/crccheck-1.0-py3-none-any.whl\n",
            "Installing collected packages: crccheck\n",
            "Successfully installed crccheck-1.0\n"
          ],
          "name": "stdout"
        }
      ]
    },
    {
      "cell_type": "markdown",
      "metadata": {
        "id": "FkmXWr8KpH5M"
      },
      "source": [
        "STAMPA SU UN FILE TUTTI I PATH DEL DATASET\n"
      ]
    },
    {
      "cell_type": "code",
      "metadata": {
        "id": "Uy0QkHndxKOe"
      },
      "source": [
        "import os \n",
        "if not os.path.exists(\"all_path.txt\"):\n",
        "  !find . -type d -exec sh -c '(ls -p \"{}\"|grep />/dev/null)||echo \"{}\"' \\; >> all_path.txt"
      ],
      "execution_count": null,
      "outputs": []
    },
    {
      "cell_type": "code",
      "metadata": {
        "colab": {
          "base_uri": "https://localhost:8080/"
        },
        "id": "F-B3smIhYz9U",
        "outputId": "4343b868-9a37-416e-df87-9f8ae29c8045"
      },
      "source": [
        "dominio = input(\"Inserisci Dominio da analizzare:\\n\")"
      ],
      "execution_count": 3,
      "outputs": [
        {
          "output_type": "stream",
          "text": [
            "Inserisci Dominio da analizzare:\n",
            "study\n"
          ],
          "name": "stdout"
        }
      ]
    },
    {
      "cell_type": "markdown",
      "metadata": {
        "id": "5GpiW0YBkY0-"
      },
      "source": [
        "INIZIO PRIMO PASSO"
      ]
    },
    {
      "cell_type": "code",
      "metadata": {
        "id": "3JDYCl4OmeQi"
      },
      "source": [
        "import os\n",
        "import pickle\n",
        "import codecs\n",
        "import re\n",
        "import random \n",
        "from bs4 import BeautifulSoup\n",
        "from crccheck.crc import Crc8\n",
        "\n",
        "def create_coeff_random(p):\n",
        "    v_a = []\n",
        "    v_b = []\n",
        "    for i in range(8):   \n",
        "      v_a.append(random.randint(1,(p-1)))\n",
        "      v_b.append(random.randint(0,(p-1)))\n",
        "    return v_a,v_b\n",
        "\n",
        "def isPrime(n) : \n",
        "    if (n <= 1) : \n",
        "        return False\n",
        "    if (n <= 3) : \n",
        "        return True\n",
        "    if (n % 2 == 0 or n % 3 == 0) : \n",
        "        return False\n",
        "    i = 5\n",
        "    while(i * i <= n) : \n",
        "        if (n % i == 0 or n % (i + 2) == 0) : \n",
        "            return False\n",
        "        i = i + 6\n",
        "    return True\n",
        "\n",
        "# h(x) = (ax + b) % p\n",
        "# dove a è un numero random > 0; \n",
        "# dove x è ogni vettore dello shingle\n",
        "# dove b numero random >= 0\n",
        "# a,b < p\n",
        "# dove p è un numero primo compreso tra U e 2U dove U=2^32\n",
        "def calcola_shingles_v(shingle,c_a,c_b): \n",
        "  v_8byte_min = []\n",
        "  for i in range(8):\n",
        "    \n",
        "    v_app = [] \n",
        "    a = c_a[i]\n",
        "    b = c_b[i]\n",
        "    for element in shingle:\n",
        "      v_app.append(((a * element) + b)%p)\n",
        "    v_8byte_min.append(min(v_app))\n",
        "  return v_8byte_min\n",
        "\n",
        "if not os.path.exists(dominio+\"_v_soap.pkl\") :\n",
        "\n",
        "  dominio_v = {}\n",
        "  f_dominio_v = open(dominio+\"_v_soap.pkl\",\"wb\")\n",
        "\n",
        "  U = 2**32\n",
        "  p = random.randint(U,2*U)\n",
        "  while not (isPrime(p)):\n",
        "    p = random.randint(U,2*U)\n",
        "\n",
        "  coeffs_a,coeffs_b = create_coeff_random(p)\n",
        "\n",
        "  f = open(\"all_path.txt\",\"r\")\n",
        "  all_path = f.readlines()\n",
        "\n",
        "  for path in all_path:\n",
        "    pages = os.listdir(path[:-1])\n",
        "    if dominio in path:\n",
        "      for page in pages:\n",
        "            tagList = []\n",
        "            #print(path[:-1]+\"/\"+page)\n",
        "            html = open(path[:-1]+\"/\"+page).read()\n",
        "            soup = BeautifulSoup(html, \"html.parser\")\n",
        "            tags = soup.find_all() \n",
        "            for tag in tags :\n",
        "              tagList.append(tag.name)              \n",
        "            key = (path[:-1]+\"/\"+page)[11:-1]\n",
        "            #print(key)\n",
        "            shingles = []\n",
        "            l = 10 #length window\n",
        "            for i in range(len(tagList)):\n",
        "              if ((i+l)<=len(tagList)):\n",
        "                s = ' '.join(tagList[i:i+l])\n",
        "                crc = Crc8.calc(s.encode('utf-8'))\n",
        "                shingles.append(crc)\n",
        "              else:\n",
        "                break\n",
        "\n",
        "            v = calcola_shingles_v(shingles,coeffs_a,coeffs_b)\n",
        "            dominio_v[str(key)] = v\n",
        "            key = \"\"\n",
        "\n",
        "  pickle.dump(dominio_v,f_dominio_v)\n",
        "  f_dominio_v.close()\n",
        "\n"
      ],
      "execution_count": null,
      "outputs": []
    },
    {
      "cell_type": "code",
      "metadata": {
        "id": "Qc_IQwwLVC_s"
      },
      "source": [
        "import pickle\n",
        "import os\n",
        "\n",
        "def create_masked_shingle(vector):  \n",
        "  v_8 = vector #vettore 8/8\n",
        "\n",
        "  v_7 = [] #lista di vettori 7/8\n",
        "  for i in range(len(vector)):\n",
        "    v7_app = [None]*len(vector)\n",
        "    v7_app[i] = \"*\"\n",
        "    for j in range(len(vector)):\n",
        "      if i!=j:\n",
        "        v7_app[j] = vector[j]\n",
        "    v_7.append(v7_app)\n",
        "\n",
        "  v_6 = [] #lista di vettori 6/8\n",
        "  for i in range(len(vector)):\n",
        "    for j in range(len(vector)):\n",
        "      v6_app = [\"*\"]*len(vector)\n",
        "      if (j<i) :\n",
        "        v6_app[j] = vector[j]\n",
        "      elif (j==i) : \n",
        "        v6_app[j] = \"*\"\n",
        "      else :\n",
        "        v6_app[j]=\"*\"\n",
        "        for k in range(len(vector)): \n",
        "          if (k != i and k != j ) :\n",
        "            v6_app[k]=vector[k]\n",
        "        v_6.append(v6_app)\n",
        "\n",
        "  return v_6,v_7,v_8\n",
        "\n",
        "if not os.path.exists(\"hash_table_\"+dominio+\"_soap.pkl\") :\n",
        "\n",
        "  dominio_to_read = open(dominio+\"_v_soap.pkl\", \"rb\")\n",
        "  \n",
        "  page_v = pickle.load(dominio_to_read)\n",
        "  hash_table = {}\n",
        "  for key in page_v.keys():\n",
        "    v = page_v.get(key)\n",
        "    v_6,v_7,v_8 = create_masked_shingle(v)     \n",
        "    for masked_v6 in v_6:\n",
        "      if str(masked_v6) in hash_table.keys():\n",
        "        value = hash_table.get(str(masked_v6)) \n",
        "        value += 1\n",
        "        hash_table[str(masked_v6)] = value\n",
        "      else : \n",
        "        hash_table[str(masked_v6)] = 1\n",
        "\n",
        "    for masked_v7 in v_7:\n",
        "      if str(masked_v7) in hash_table.keys():\n",
        "        value = hash_table.get(str(masked_v7)) \n",
        "        value += 1\n",
        "        hash_table[str(masked_v7)] = value\n",
        "      else : \n",
        "        hash_table[str(masked_v7)] = 1\n",
        "    \n",
        "    \n",
        "    if str(v_8) in hash_table.keys():\n",
        "      value = hash_table.get(str(v_8)) \n",
        "      value += 1\n",
        "      hash_table[str(v_8)] = value\n",
        "    else : \n",
        "      hash_table[str(v_8)] = 1\n",
        "\n",
        "  f_hash_dominio_soap = open(\"hash_table_\"+dominio+\"_soap.pkl\", \"wb\")\n",
        "  pickle.dump(hash_table,f_hash_dominio_soap)\n",
        "  f_hash_dominio_soap.close()\n",
        "\n",
        "\n"
      ],
      "execution_count": null,
      "outputs": []
    },
    {
      "cell_type": "markdown",
      "metadata": {
        "id": "LQ9T9CEgkMwr"
      },
      "source": [
        "INIZIO SECONDO PASSO"
      ]
    },
    {
      "cell_type": "code",
      "metadata": {
        "id": "VETTQAhkkSnI"
      },
      "source": [
        "import pickle \n",
        "\n",
        "f_hash_dominio_soap = open(\"hash_table_\"+dominio+\"_soap.pkl\", \"rb\")\n",
        "\n",
        "hash_table = pickle.load(f_hash_dominio_soap)\n",
        "# prendi chiavi 8/8 e ordinale in modo crescente in base al valore (conteggio)\n",
        "sort_keys_8_8 = sorted(hash_table.items(), key=lambda x: x[1])\n",
        "sorted_8_8 = {}\n",
        "for i in sort_keys_8_8:\n",
        "  if not \"*\" in i[0]:\n",
        "    sorted_8_8[str(i[0])] = i[1]\n",
        "\n",
        "f_sorted_dominio_soap = open(\"sorted_hash_table_\"+dominio+\"_soap.pkl\", \"wb\")\n",
        "pickle.dump(sorted_8_8,f_sorted_dominio_soap)\n",
        "f_sorted_dominio_soap.close()\n",
        "\n",
        "  \n",
        "\n"
      ],
      "execution_count": null,
      "outputs": []
    },
    {
      "cell_type": "code",
      "metadata": {
        "id": "fCrUppxV7z3c"
      },
      "source": [
        "def to_list(s):\n",
        "  s_to_list = []\n",
        "\n",
        "  char_next= None\n",
        "  char_before= None\n",
        "  index_2 = 0\n",
        "  \n",
        "  for index, char in enumerate(s):\n",
        "    \n",
        "    if (index!=index_2):      \n",
        "      char = new_char     \n",
        "      index= index_2\n",
        "    else:\n",
        "      index_2+=1\n",
        "\n",
        "    if char == \"*\":\n",
        "      s_to_list.append(char)\n",
        "\n",
        "    if char.isnumeric(): \n",
        "      number = char\n",
        "      char_next = s[index+1] \n",
        "      while char_next.isnumeric():\n",
        "        index=index+1\n",
        "        number += char_next\n",
        "        char_next= s[index+1]         \n",
        "      else:\n",
        "        new_index = index+1\n",
        "        index_2= new_index\n",
        "        new_char= char_next\n",
        "        s_to_list.append(number) \n",
        "\n",
        "  return s_to_list"
      ],
      "execution_count": null,
      "outputs": []
    },
    {
      "cell_type": "code",
      "metadata": {
        "id": "wHRXO8eOlnRJ"
      },
      "source": [
        "import os\n",
        "if not os.path.exists(\"f_\"+dominio+\"_hash_soap_update.pkl\") :\n",
        "  sorted_8_8_dominio = open(\"sorted_hash_table_\"+dominio+\"_soap.pkl\", \"rb\")\n",
        "\n",
        "  sorted_8_8 = pickle.load(sorted_8_8_dominio)\n",
        "  for k in sorted_8_8.keys():\n",
        "    all_candidated = {}\n",
        "    key_max = [None,0]\n",
        "    for k1 in hash_table.keys():\n",
        "      #if \"*\" in k1:\n",
        "      contatore = 0\n",
        "      k_to_list = to_list(k)\n",
        "      k1_to_list = to_list(k1)\n",
        "\n",
        "      for i in range(len(k_to_list)): #k e k1 lunghi uguale\n",
        "        if (k_to_list[i]==k1_to_list[i] or k1_to_list[i]==\"*\"):\n",
        "          contatore += 1\n",
        "      if contatore == 8:\n",
        "        all_candidated[str(k1)] = hash_table.get(str(k1))\n",
        "        if int(all_candidated.get(str(k1))) > key_max[1] :\n",
        "          key_max[0] = str(k1)\n",
        "          key_max[1] = all_candidated.get(str(k1))\n",
        "\n",
        "    if str(key_max[0]) in  all_candidated.keys():\n",
        "      del all_candidated[str(key_max[0])]\n",
        "    for candidate_k in all_candidated.keys():\n",
        "      hash_table[candidate_k] = all_candidated.get(candidate_k) - sorted_8_8.get(k) # il primo è uguale al valore che troveremo nell'hash table\n",
        "\n",
        "  f_dominio_hash_soap_update = open(\"f_\"+dominio+\"_hash_soap_update.pkl\", \"wb\")\n",
        "  pickle.dump(hash_table,f_dominio_hash_soap_update)\n",
        "  f_dominio_hash_soap_update.close()\n",
        "\n",
        "    "
      ],
      "execution_count": null,
      "outputs": []
    },
    {
      "cell_type": "code",
      "metadata": {
        "id": "Y5pmPW6nzG0s"
      },
      "source": [
        "import os\n",
        "import pickle \n",
        "\n",
        "if not os.path.exists(\"f_\"+dominio+\"_h_support.pkl\"):\n",
        "\n",
        "  f_dominio_hash_soap_update = open(\"f_\"+dominio+\"_hash_soap_update.pkl\", \"rb\")\n",
        "  \n",
        "  if \"guide\" in dominio :\n",
        "    threshold = 10\n",
        "  else:\n",
        "    threshold = 20\n",
        "\n",
        "  h_support = {}\n",
        "  hash_table = pickle.load(f_dominio_hash_soap_update)\n",
        "  for k in hash_table.keys():\n",
        "    if not hash_table.get(k) < threshold:\n",
        "      h_support[str(k)] = hash_table.get(k)\n",
        "\n",
        "  f_dominio_h_support = open(\"f_\"+dominio+\"_h_support.pkl\", \"wb\")\n",
        "  pickle.dump(h_support,f_dominio_h_support)\n",
        "  f_dominio_h_support.close()\n"
      ],
      "execution_count": null,
      "outputs": []
    },
    {
      "cell_type": "markdown",
      "metadata": {
        "id": "c51QcDoiocyE"
      },
      "source": [
        "TERZO PASSO"
      ]
    },
    {
      "cell_type": "code",
      "metadata": {
        "id": "GdPepGd5rJNS",
        "colab": {
          "base_uri": "https://localhost:8080/"
        },
        "outputId": "dd824545-0c91-44ea-b887-62dd55612fa9"
      },
      "source": [
        "import numpy as np\n",
        "from collections import defaultdict \n",
        "import pickle \n",
        "\n",
        "if not os.path.exists(dominio+\"_clusters.pkl\") :\n",
        "\n",
        "  dominio_v_pickle = open(dominio+\"_v_soap.pkl\", \"rb\")\n",
        "  all_v = pickle.load(dominio_v_pickle)\n",
        "\n",
        "  dominio_support = open(\"f_\"+dominio+\"_h_support.pkl\", \"rb\")\n",
        "  h_support = pickle.load(dominio_support)\n",
        "\n",
        "\n",
        "  clusters = defaultdict(list) \n",
        "\n",
        "  for p in all_v.keys(): #le chiavi sono le pagine, i valore le v\n",
        "\n",
        "    all_mask = {}\n",
        "    key_max = [None,0]\n",
        "    for h_key in h_support.keys(): #le chiavi sono le v (maskered), i valori i conteggi\n",
        "      contatore = 0\n",
        "      value_p = all_v.get(p)\n",
        "      list_value_p = to_list(str(value_p))\n",
        "      list_h_key = to_list(str(h_key))\n",
        "      for i in range(len(list_value_p)):\n",
        "        if list_h_key[i] == \"*\" or list_h_key[i] == list_value_p[i] :\n",
        "          contatore += 1\n",
        "      if contatore == 8:\n",
        "        all_mask[str(h_key)] = h_support.get(str(h_key))\n",
        "        if all_mask.get(str(h_key)) > key_max[1] :\n",
        "          key_max[0] = str(h_key)\n",
        "          key_max[1] = all_mask.get(str(h_key))\n",
        "    if not str(key_max[0]) == \"None\":\n",
        "      clusters[str(key_max[0])].append(p)\n",
        "\n",
        "  print(clusters)\n",
        "\n",
        "  dominio_clusters = open(dominio+\"_clusters.pkl\", \"wb\")\n",
        "  pickle.dump(clusters,dominio_clusters)\n",
        "  dominio_clusters.close()\n",
        "\n"
      ],
      "execution_count": null,
      "outputs": [
        {
          "output_type": "stream",
          "text": [
            "defaultdict(<class 'list'>, {\"['*', 28031325, 56395195, 60911675, 39234713, '*', 18715876, 34537133]\": ['www.study.eu/country/franc', 'www.study.eu/country/austri', 'www.study.eu/country/belgiu', 'www.study.eu/country/czech-republi', 'www.study.eu/country/denmar', 'www.study.eu/country/estoni', 'www.study.eu/country/faroe-island', 'www.study.eu/country/finlan', 'www.study.eu/country/greec', 'www.study.eu/country/hungar', 'www.study.eu/country/icelan', 'www.study.eu/country/ital', 'www.study.eu/country/latvi', 'www.study.eu/country/liechtenstei', 'www.study.eu/country/lithuani', 'www.study.eu/country/malt', 'www.study.eu/country/netherland', 'www.study.eu/country/norwa', 'www.study.eu/country/polan', 'www.study.eu/country/romani', 'www.study.eu/country/spai', 'www.study.eu/country/switzerlan'], \"[21877878, '*', '*', 60911675, 15278019, 13513295, 26589921, 8103940]\": ['www.study.eu/university/university-west/child-and-youth-studies-1851', 'www.study.eu/university/university-west/international-mechanical-engineerin', 'www.study.eu/university/university-west/international-programme-in-politics-and-economics-ipp', 'www.study.eu/university/university-west/international-business-765', 'www.study.eu/university/university-west/it-and-managemen', 'www.study.eu/university/university-west/electric-vehicle-engineering-onlin', 'www.study.eu/university/university-west/manufacturing-engineering-1-yea', 'www.study.eu/university/university-west/manufacturing-engineering-2-year', 'www.study.eu/university/university-west/metal-additive-manufacturin', 'www.study.eu/university/university-west/robotics-and-automation-1-year-on-campu', 'www.study.eu/university/university-west/robotics-and-automation-1-year-onlin', 'www.study.eu/university/university-west/robotics-and-automation-2-years-on-campu', 'www.study.eu/university/university-west/robotics-and-automation-2-years-onlin', 'www.study.eu/university/university-west/work-integrated-political-studie', 'www.study.eu/university/blekinge-institute-of-technology/mba-programme-part-tim', 'www.study.eu/university/blekinge-institute-of-technology/strategic-leadership-towards-sustainabilit', 'www.study.eu/university/blekinge-institute-of-technology/computer-science-741', 'www.study.eu/university/blekinge-institute-of-technology/software-engineering-795', 'www.study.eu/university/blekinge-institute-of-technology/electrical-engineering-with-emphasis-on-telecommunication-s', 'www.study.eu/university/blekinge-institute-of-technology/mechanical-engineering-with-emphasis-on-structural-mechanic', 'www.study.eu/university/blekinge-institute-of-technology/sustainable-urban-plannin', 'www.study.eu/university/chalmers-university-of-technology/architecture-and-urban-design-731', 'www.study.eu/university/chalmers-university-of-technology/design-and-construction-project-managemen', 'www.study.eu/university/chalmers-university-of-technology/structural-engineering-and-building-technolog', 'www.study.eu/university/chalmers-university-of-technology/entrepreneurship-and-business-desig', 'www.study.eu/university/chalmers-university-of-technology/international-project-managemen', 'www.study.eu/university/chalmers-university-of-technology/maritime-management-776', 'www.study.eu/university/chalmers-university-of-technology/product-developmen', 'www.study.eu/university/chalmers-university-of-technology/computer-science-algorithms-languages-and-logi', 'www.study.eu/university/chalmers-university-of-technology/computer-systems-and-network', 'www.study.eu/university/chalmers-university-of-technology/software-engineering-and-technolog', 'www.study.eu/university/chalmers-university-of-technology/automotive-engineerin', 'www.study.eu/university/chalmers-university-of-technology/communication-engineerin', 'www.study.eu/university/chalmers-university-of-technology/complex-adaptive-systems-740', 'www.study.eu/university/chalmers-university-of-technology/design-for-sustainable-developmen', 'www.study.eu/university/chalmers-university-of-technology/electric-power-engineering-747', 'www.study.eu/university/chalmers-university-of-technology/embedded-electronic-system-desig', 'www.study.eu/university/chalmers-university-of-technology/industrial-ecolog', 'www.study.eu/university/chalmers-university-of-technology/infrastructure-and-environmental-engineerin', 'www.study.eu/university/chalmers-university-of-technology/innovative-and-sustainable-chemical-engineerin', 'www.study.eu/university/chalmers-university-of-technology/materials-engineering-777', 'www.study.eu/university/chalmers-university-of-technology/nanotechnolog', 'www.study.eu/university/chalmers-university-of-technology/naval-architecture-and-ocean-engineerin', 'www.study.eu/university/chalmers-university-of-technology/nuclear-science-and-technolog', 'www.study.eu/university/chalmers-university-of-technology/production-engineering-790', 'www.study.eu/university/chalmers-university-of-technology/quality-and-operations-managemen', 'www.study.eu/university/chalmers-university-of-technology/systems-control-and-mechatronic', 'www.study.eu/university/chalmers-university-of-technology/applied-mechanic', 'www.study.eu/university/chalmers-university-of-technology/applied-physics-730', 'www.study.eu/university/chalmers-university-of-technology/biotechnology-735', 'www.study.eu/university/chalmers-university-of-technology/engineering-mathematics-and-computational-scienc', 'www.study.eu/university/chalmers-university-of-technology/materials-chemistr', 'www.study.eu/university/chalmers-university-of-technology/physics-and-astronomy-788', 'www.study.eu/university/chalmers-university-of-technology/sound-and-vibratio', 'www.study.eu/university/dalarna-university/international-tourism-management-768', 'www.study.eu/university/dalarna-university/business-intelligenc', 'www.study.eu/university/dalarna-university/economics-of-tourism-and-event', 'www.study.eu/university/dalarna-university/master-program-in-business-studies-with-an-international-fo', 'www.study.eu/university/dalarna-university/tourism-destination-developmen', 'www.study.eu/university/dalarna-university/solar-energy-engineerin', 'www.study.eu/university/dalarna-university/english-with-specialisation-in-literature-in-englis', 'www.study.eu/university/dalarna-university/african-studie', 'www.study.eu/university/halmstad-university/network-design-and-computer-managemen', 'www.study.eu/university/halmstad-university/strategic-entrepreneurship-for-international-growth-with-sp', 'www.study.eu/university/halmstad-university/strategic-entrepreneurship-for-international-growth-with-spe-1ae79e63-902a-4d59-aed5-3c588274bbf', 'www.study.eu/university/halmstad-university/information-technolog', 'www.study.eu/university/halmstad-university/applied-environmental-scienc', 'www.study.eu/university/halmstad-university/electronics-desig', 'www.study.eu/university/halmstad-university/embedded-and-intelligent-system', 'www.study.eu/university/halmstad-university/industrial-management-and-innovatio', 'www.study.eu/university/halmstad-university/mechanical-engineering-779', 'www.study.eu/university/halmstad-university/renewable-energy-system', 'www.study.eu/university/halmstad-university/exercise-biomedicine-human-performanc', 'www.study.eu/university/karlstad-university/global-media-studie', 'www.study.eu/university/karlstad-university/accounting-and-contro', 'www.study.eu/university/karlstad-university/marketin', 'www.study.eu/university/karlstad-university/service-managemen', 'www.study.eu/university/karlstad-university/computer-science-740', 'www.study.eu/university/karlstad-university/information-systems-762', 'www.study.eu/university/karlstad-university/engineering-degree-programme-in-engineering-physic', 'www.study.eu/university/karlstad-university/biology-ecology-and-conservation-biolog', 'www.study.eu/university/karlstad-university/economics-745', 'www.study.eu/university/karlstad-university/region-buildin', 'www.study.eu/university/karolinska-institutet/biomedicine-735', 'www.study.eu/university/karolinska-institutet/bioentrepreneurshi', 'www.study.eu/university/karolinska-institutet/health-economics-policy-and-management-758', 'www.study.eu/university/karolinska-institutet/joint-health-informatic', 'www.study.eu/university/karolinska-institutet/global-healt', 'www.study.eu/university/karolinska-institutet/public-health-sciences-specialization-public-health-epidemi', 'www.study.eu/university/karolinska-institutet/toxicolog', 'www.study.eu/university/kristianstad-university/computer-science-and-engineering-specialization-in-embedded', 'www.study.eu/university/kristianstad-university/computer-science-and-engineering-with-ten-weeks-introductio', 'www.study.eu/university/kristianstad-university/software-development-795', 'www.study.eu/university/kristianstad-university/english-language-literature-and-societ', 'www.study.eu/university/kristianstad-university/one-year-computer-science-with-specialization-in-embedded-s', 'www.study.eu/university/kristianstad-university/integrative-health-scienc', 'www.study.eu/university/kth-royal-institute-of-technology/information-and-communication-technology-761', 'www.study.eu/university/kth-royal-institute-of-technology/architectural-lighting-desig', 'www.study.eu/university/kth-royal-institute-of-technology/architectur', 'www.study.eu/university/kth-royal-institute-of-technology/engineering-design-track-machine-desig', 'www.study.eu/university/kth-royal-institute-of-technology/engineering-design-track-mechatronic', 'www.study.eu/university/kth-royal-institute-of-technology/integrated-product-design-track-industrial-design-engineeri', 'www.study.eu/university/kth-royal-institute-of-technology/integrated-product-design-track-innovation-management-and-p', 'www.study.eu/university/kth-royal-institute-of-technology/interactive-media-technolog', 'www.study.eu/university/kth-royal-institute-of-technology/real-estate-and-construction-managemen', 'www.study.eu/university/kth-royal-institute-of-technology/entrepreneurship-and-innovation-managemen', 'www.study.eu/university/kth-royal-institute-of-technology/media-managemen', 'www.study.eu/university/kth-royal-institute-of-technology/computer-science-741', 'www.study.eu/university/kth-royal-institute-of-technology/computer-simulations-for-science-and-engineerin', 'www.study.eu/university/kth-royal-institute-of-technology/ict-innovatio', 'www.study.eu/university/kth-royal-institute-of-technology/information-and-network-engineerin', 'www.study.eu/university/kth-royal-institute-of-technology/machine-learnin', 'www.study.eu/university/kth-royal-institute-of-technology/software-engineering-of-distributed-system', 'www.study.eu/university/kth-royal-institute-of-technology/transport-and-geoinformation-technolog', 'www.study.eu/university/kth-royal-institute-of-technology/aerospace-engineerin', 'www.study.eu/university/kth-royal-institute-of-technology/chemical-engineering-for-energy-and-environmen', 'www.study.eu/university/kth-royal-institute-of-technology/civil-and-architectural-engineering-739', 'www.study.eu/university/kth-royal-institute-of-technology/communication-systems-740', 'www.study.eu/university/kth-royal-institute-of-technology/electric-power-engineering-747', 'www.study.eu/university/kth-royal-institute-of-technology/embedded-system', 'www.study.eu/university/kth-royal-institute-of-technology/engineering-design-track-combustion-engineerin', 'www.study.eu/university/kth-royal-institute-of-technology/engineering-materials-scienc', 'www.study.eu/university/kth-royal-institute-of-technology/engineering-mechanic', 'www.study.eu/university/kth-royal-institute-of-technology/environmental-engineering-and-sustainable-infrastructur', 'www.study.eu/university/kth-royal-institute-of-technology/industrial-and-environmental-biotechnolog', 'www.study.eu/university/kth-royal-institute-of-technology/industrial-managemen', 'www.study.eu/university/kth-royal-institute-of-technology/macromolecular-material', 'www.study.eu/university/kth-royal-institute-of-technology/macromolecular-materials-track-polymer-technolog', 'www.study.eu/university/kth-royal-institute-of-technology/medical-biotechnology-780', 'www.study.eu/university/kth-royal-institute-of-technology/molecular-science-and-engineerin', 'www.study.eu/university/kth-royal-institute-of-technology/molecular-techniques-in-life-scienc', 'www.study.eu/university/kth-royal-institute-of-technology/nanotechnology-784', 'www.study.eu/university/kth-royal-institute-of-technology/naval-architecture-784', 'www.study.eu/university/kth-royal-institute-of-technology/nuclear-energy-engineerin', 'www.study.eu/university/kth-royal-institute-of-technology/production-engineering-and-managemen', 'www.study.eu/university/kth-royal-institute-of-technology/sustainable-energy-engineerin', 'www.study.eu/university/kth-royal-institute-of-technology/sustainable-technolog', 'www.study.eu/university/kth-royal-institute-of-technology/systems-control-and-robotic', 'www.study.eu/university/kth-royal-institute-of-technology/turbomachinery-aeromechanic-university-training-track-aerom', 'www.study.eu/university/kth-royal-institute-of-technology/turbomachinery-aeromechanic-university-training-track-struc', 'www.study.eu/university/kth-royal-institute-of-technology/turbomachinery-aeromechanic-university-training-track-unste', 'www.study.eu/university/kth-royal-institute-of-technology/vehicle-engineering-802', 'www.study.eu/university/kth-royal-institute-of-technology/medical-engineerin', 'www.study.eu/university/kth-royal-institute-of-technology/applied-and-computational-mathematic', 'www.study.eu/university/kth-royal-institute-of-technology/electrophysic', 'www.study.eu/university/kth-royal-institute-of-technology/engineering-physic', 'www.study.eu/university/kth-royal-institute-of-technology/economics-of-innovation-and-growt', 'www.study.eu/university/kth-royal-institute-of-technology/sustainable-urban-planning-and-desig', 'www.study.eu/university/kth-royal-institute-of-technology/urbanism-studie', 'www.study.eu/university/linkoping-university/design-743', 'www.study.eu/university/linkoping-university/business-administration-strategy-and-management-in-internat', 'www.study.eu/university/linkoping-university/computer-science-741', 'www.study.eu/university/linkoping-university/intelligent-transport-systems-and-logistic', 'www.study.eu/university/linkoping-university/aeronautical-engineerin', 'www.study.eu/university/linkoping-university/biomedical-engineering-734', 'www.study.eu/university/linkoping-university/communication-system', 'www.study.eu/university/linkoping-university/electronics-engineering-747', 'www.study.eu/university/linkoping-university/industrial-engineering-and-managemen', 'www.study.eu/university/linkoping-university/materials-science-and-nanotechnology-777', 'www.study.eu/university/linkoping-university/mechanical-engineering-779', 'www.study.eu/university/linkoping-university/science-for-sustainable-developmen', 'www.study.eu/university/linkoping-university/sustainability-engineering-and-managemen', 'www.study.eu/university/linkoping-university/experimental-and-medical-bioscience', 'www.study.eu/university/linkoping-university/outdoor-environmental-education-and-outdoor-lif', 'www.study.eu/university/linkoping-university/applied-ethology-and-animal-biolog', 'www.study.eu/university/linkoping-university/ecology-and-the-environmen', 'www.study.eu/university/linkoping-university/organic-synthesis-and-medicinal-chemistr', 'www.study.eu/university/linkoping-university/statistics-and-data-minin', 'www.study.eu/university/linkoping-university/adult-learning-and-global-chang', 'www.study.eu/university/linkoping-university/applied-ethic', 'www.study.eu/university/linkoping-university/child-studie', 'www.study.eu/university/linkoping-university/ethnic-and-migration-studie', 'www.study.eu/university/linkoping-university/gender-studies-intersectionality-and-chang', 'www.study.eu/university/linkoping-university/international-and-european-relation', 'www.study.eu/university/lulea-university-of-technology/music-performance-specialization-classical-musicia', 'www.study.eu/university/lulea-university-of-technology/music-performance-specialization-compositio', 'www.study.eu/university/lulea-university-of-technology/music-performance-specialization-conductin', 'www.study.eu/university/lulea-university-of-technology/music-performance-specialization-jazz-musicia', 'www.study.eu/university/lulea-university-of-technology/music-performance-specialization-music-production-in-pop-ro', 'www.study.eu/university/lulea-university-of-technology/music-performance-specialization-rock-musicia', 'www.study.eu/university/lulea-university-of-technology/computer-science-and-engineering-specialization-in-distribu', 'www.study.eu/university/lulea-university-of-technology/information-security-campus-lule', 'www.study.eu/university/lulea-university-of-technology/information-security-internet-based-distance-educatio', 'www.study.eu/university/lulea-university-of-technology/civil-engineering-with-specialization-in-mining-and-geotech', 'www.study.eu/university/lulea-university-of-technology/composite-material', 'www.study.eu/university/lulea-university-of-technology/maintenance-engineerin', 'www.study.eu/university/lulea-university-of-technology/minerals-and-metallurgical-engineerin', 'www.study.eu/university/lulea-university-of-technology/spacecraft-desig', 'www.study.eu/university/lulea-university-of-technology/space-science-and-technolog', 'www.study.eu/university/lulea-university-of-technology/wood-technolog', 'www.study.eu/university/lulea-university-of-technology/earths-atmosphere-and-the-solar-syste', 'www.study.eu/university/lulea-university-of-technology/exploration-and-environmental-geoscience', 'www.study.eu/university/lund-university/international-business-764', 'www.study.eu/university/lund-university/sciences-mathematic', 'www.study.eu/university/lund-university/sciences-physic', 'www.study.eu/university/lund-university/development-studie', 'www.study.eu/university/lund-university/sciences-physical-geography-and-ecosystem-analysi', 'www.study.eu/university/lund-university/architecture-731', 'www.study.eu/university/lund-university/church-music-arrangement-and-compositio', 'www.study.eu/university/lund-university/church-music-organ-and-keyboar', 'www.study.eu/university/lund-university/church-music-vocal-music-and-choi', 'www.study.eu/university/lund-university/energy-efficient-and-environmental-building-desig', 'www.study.eu/university/lund-university/film-and-media-histor', 'www.study.eu/university/lund-university/music-compositio', 'www.study.eu/university/lund-university/music-composition-diplom', 'www.study.eu/university/lund-university/music-guita', 'www.study.eu/university/lund-university/music-harpsichor', 'www.study.eu/university/lund-university/music-interpretation-diplom', 'www.study.eu/university/lund-university/music-jazz-improvisatio', 'www.study.eu/university/lund-university/music-pian', 'www.study.eu/university/lund-university/music-recorde', 'www.study.eu/university/lund-university/music-symphony-orchestra-instrumen', 'www.study.eu/university/lund-university/music-vocal-studie', 'www.study.eu/university/lund-university/accounting-and-financ', 'www.study.eu/university/lund-university/entrepreneurship-and-innovatio', 'www.study.eu/university/lund-university/environmental-management-and-polic', 'www.study.eu/university/lund-university/financ', 'www.study.eu/university/lund-university/international-marketing-brand-managemen', 'www.study.eu/university/lund-university/international-strategic-managemen', 'www.study.eu/university/lund-university/logistics-and-supply-chain-managemen', 'www.study.eu/university/lund-university/management-775', 'www.study.eu/university/lund-university/managing-people-knowledge-chang', 'www.study.eu/university/lund-university/media-and-communication-studies-779', 'www.study.eu/university/lund-university/public-health-791', 'www.study.eu/university/lund-university/service-management-retai', 'www.study.eu/university/lund-university/service-management-supply-chain-managemen', 'www.study.eu/university/lund-university/service-management-touris', 'www.study.eu/university/lund-university/strategic-communicatio', 'www.study.eu/university/lund-university/welfare-policies-and-managemen', 'www.study.eu/university/lund-university/information-systems-761', 'www.study.eu/university/lund-university/disaster-risk-management-and-climate-change-adaptatio', 'www.study.eu/university/lund-university/embedded-electronics-engineerin', 'www.study.eu/university/lund-university/environmental-studies-and-sustainability-scienc', 'www.study.eu/university/lund-university/industrial-design-760', 'www.study.eu/university/lund-university/innovation-and-spatial-dynamic', 'www.study.eu/university/lund-university/water-resources-engineerin', 'www.study.eu/university/lund-university/wireless-communications-802', 'www.study.eu/university/lund-university/biology-animal-ecolog', 'www.study.eu/university/lund-university/biology-plant-scienc', 'www.study.eu/university/lund-university/geology-bedrock-geolog', 'www.study.eu/university/lund-university/geology-quaternary-geolog', 'www.study.eu/university/lund-university/archaeology-theory-and-practic', 'www.study.eu/university/lund-university/language-and-linguistics-arabic-semitic-language', 'www.study.eu/university/lund-university/language-and-linguistics-chines', 'www.study.eu/university/lund-university/language-and-linguistics-cognitive-semiotic', 'www.study.eu/university/lund-university/language-and-linguistics-englis', 'www.study.eu/university/lund-university/language-and-linguistics-frenc', 'www.study.eu/university/lund-university/language-and-linguistics-general-linguistic', 'www.study.eu/university/lund-university/language-and-linguistics-germa', 'www.study.eu/university/lund-university/language-and-linguistics-greek-modern-gree', 'www.study.eu/university/lund-university/language-and-linguistics-italia', 'www.study.eu/university/lund-university/language-and-linguistics-lati', 'www.study.eu/university/lund-university/language-and-linguistics-phonetic', 'www.study.eu/university/lund-university/language-and-linguistics-rhetori', 'www.study.eu/university/lund-university/language-and-linguistics-romania', 'www.study.eu/university/lund-university/language-and-linguistics-swedish-scandinavian-language', 'www.study.eu/university/lund-university/literature-culture-media-english-literatur', 'www.study.eu/university/lund-university/literature-culture-media-french-literatur', 'www.study.eu/university/lund-university/literature-culture-media-general-literatur', 'www.study.eu/university/lund-university/literature-culture-media-german-literatur', 'www.study.eu/university/lund-university/literature-culture-media-russian-literatur', 'www.study.eu/university/lund-university/literature-culture-media-scandinavian-studie', 'www.study.eu/university/lund-university/literature-culture-media-spanish-literatur', 'www.study.eu/university/lund-university/literature-culture-media-yiddish-literatur', 'www.study.eu/university/lund-university/religious-roots-of-europe-792', 'www.study.eu/university/lund-university/european-and-international-tax-la', 'www.study.eu/university/lund-university/european-business-la', 'www.study.eu/university/lund-university/international-human-rights-la', 'www.study.eu/university/lund-university/food-technology-and-nutritio', 'www.study.eu/university/lund-university/human-ecolog', 'www.study.eu/university/lund-university/medical-science-aging-and-healt', 'www.study.eu/university/lund-university/astrophysic', 'www.study.eu/university/lund-university/bioinformatics-732', 'www.study.eu/university/lund-university/biology-aquatic-ecolog', 'www.study.eu/university/lund-university/biology-conservation-biolog', 'www.study.eu/university/lund-university/biology-genera', 'www.study.eu/university/lund-university/biomedicine-735', 'www.study.eu/university/lund-university/biotechnology-735', 'www.study.eu/university/lund-university/chemistry-737', 'www.study.eu/university/lund-university/mathematical-statistic', 'www.study.eu/university/lund-university/mathematics-778', 'www.study.eu/university/lund-university/molecular-biology-medical-biolog', 'www.study.eu/university/lund-university/molecular-biology-microbiolog', 'www.study.eu/university/lund-university/molecular-biology-molecular-genetics-and-biotechnolog', 'www.study.eu/university/lund-university/organizing-molecular-matte', 'www.study.eu/university/lund-university/physics-biological-physics-and-computational-biolog', 'www.study.eu/university/lund-university/physics-genera', 'www.study.eu/university/lund-university/physics-materials-scienc', 'www.study.eu/university/lund-university/physics-nanoscienc', 'www.study.eu/university/lund-university/physics-particle-physic', 'www.study.eu/university/lund-university/physics-photonic', 'www.study.eu/university/lund-university/physics-theoretical-physic', 'www.study.eu/university/lund-university/protein-scienc', 'www.study.eu/university/lund-university/synchrotron-radiation-based-scienc', 'www.study.eu/university/lund-university/applied-cultural-analysi', 'www.study.eu/university/lund-university/asian-studies-731', 'www.study.eu/university/lund-university/atmospheric-sciences-and-biogeochemical-cycle', 'www.study.eu/university/lund-university/development-studies-743', 'www.study.eu/university/lund-university/economic-growth-population-and-developmen', 'www.study.eu/university/lund-university/economics-746', 'www.study.eu/university/lund-university/european-affair', 'www.study.eu/university/lund-university/european-studies-753', 'www.study.eu/university/lund-university/geographical-information-system', 'www.study.eu/university/lund-university/geomatics-756', 'www.study.eu/university/lund-university/global-studie', 'www.study.eu/university/lund-university/human-geography-758', 'www.study.eu/university/lund-university/international-development-and-managemen', 'www.study.eu/university/lund-university/international-economics-with-a-focus-on-chin', 'www.study.eu/university/lund-university/middle-eastern-studies-780', 'www.study.eu/university/lund-university/physical-geography-and-ecosystem-analysi', 'www.study.eu/university/lund-university/psychology-791', 'www.study.eu/university/lund-university/social-studies-of-gende', 'www.study.eu/university/lund-university/sociology-of-la', 'www.study.eu/university/lund-university/sustainable-urban-desig', 'www.study.eu/university/malardalen-university/analytical-financ', 'www.study.eu/university/malardalen-university/international-business-management-765', 'www.study.eu/university/malardalen-university/innovation-and-desig', 'www.study.eu/university/malardalen-university/financial-engineering-754', 'www.study.eu/university/malardalen-university/international-marketin', 'www.study.eu/university/malardalen-university/product-and-process-development-production-and-logistic', 'www.study.eu/university/malardalen-university/software-engineering-795', 'www.study.eu/university/malardalen-university/intelligent-embedded-system', 'www.study.eu/university/malardalen-university/sustainable-energy-systems-798', 'www.study.eu/university/malardalen-university/health-and-welfare-caring-science-and-nursin', 'www.study.eu/university/malardalen-university/engineering-mathematic', 'www.study.eu/university/malardalen-university/health-and-welfare-social-wor', 'www.study.eu/university/malardalen-university/health-and-welfare-work-life-studie', 'www.study.eu/university/malmo-university/english-studie', 'www.study.eu/university/malmo-university/european-studies-politics-societies-and-culture', 'www.study.eu/university/malmo-university/human-right', 'www.study.eu/university/malmo-university/international-migration-and-ethnic-relation', 'www.study.eu/university/malmo-university/international-relations-768', 'www.study.eu/university/malmo-university/peace-and-conflict-studies-786', 'www.study.eu/university/malmo-university/interaction-design-one-yea', 'www.study.eu/university/malmo-university/interaction-design-two-yea', 'www.study.eu/university/malmo-university/leadership-for-sustainability-one-yea', 'www.study.eu/university/malmo-university/media-and-communication-studies-culture-collaborative-media', 'www.study.eu/university/malmo-university/media-and-communication-studies-culture-collaborative-media--2d236a30-bb46-46f1-b5ca-b6b613fa9a6', 'www.study.eu/university/malmo-university/media-technology-strategic-media-development-one-yea', 'www.study.eu/university/malmo-university/computer-science-one-yea', 'www.study.eu/university/malmo-university/criminology-two-yea', 'www.study.eu/university/malmo-university/biomedical-surface-science-two-yea', 'www.study.eu/university/malmo-university/communication-for-developmen', 'www.study.eu/university/malmo-university/international-migration-and-ethnic-relations-one-yea', 'www.study.eu/university/malmo-university/international-migration-and-ethnic-relations-two-yea', 'www.study.eu/university/malmo-university/political-science-global-politics-and-societal-change-one-y', 'www.study.eu/university/malmo-university/political-science-global-politics-two-yea', 'www.study.eu/university/malmo-university/urban-studies-two-yea', 'www.study.eu/university/mid-sweden-university/ecotechnolog', 'www.study.eu/university/mid-sweden-university/business-administration-marketing-and-managemen', 'www.study.eu/university/mid-sweden-university/tourism-800', 'www.study.eu/university/mid-sweden-university/tourism-studie', 'www.study.eu/university/mid-sweden-university/international-computer-engineerin', 'www.study.eu/university/mid-sweden-university/electronic-systems-and-instrumentatio', 'www.study.eu/university/mid-sweden-university/embedded-sensor-system', 'www.study.eu/university/mid-sweden-university/international-ecotechnology-and-sustainable-developmen', 'www.study.eu/university/mid-sweden-university/sports-science-performance-optimisation-with-a-focus-on-eli', 'www.study.eu/university/orebro-university/journalism-connecte', 'www.study.eu/university/orebro-university/robotics-and-intelligent-systems-one-two-year-master-s-prog', 'www.study.eu/university/orebro-university/cardiovascular-medicin', 'www.study.eu/university/orebro-university/innate-immunity-in-health-and-diseas', 'www.study.eu/university/orebro-university/nutritional-molecular-medicine-and-bioinformatic', 'www.study.eu/university/orebro-university/sports-physiology-and-medicine-programm', 'www.study.eu/university/orebro-university/applied-statistic', 'www.study.eu/university/orebro-university/chemistry-in-environmental-forensic', 'www.study.eu/university/orebro-university/public-planning-for-sustainable-developmen', 'www.study.eu/university/orebro-university/social-analysi', 'www.study.eu/university/slu-swedish-university-of-agricultural-sciences/landscape-architectur', 'www.study.eu/university/slu-swedish-university-of-agricultural-sciences/environmental-communication-and-managemen', 'www.study.eu/university/slu-swedish-university-of-agricultural-sciences/rural-development-and-natural-resource-managemen', 'www.study.eu/university/slu-swedish-university-of-agricultural-sciences/soil-and-water-managemen', 'www.study.eu/university/slu-swedish-university-of-agricultural-sciences/sustainable-developmen', 'www.study.eu/university/slu-swedish-university-of-agricultural-sciences/agroecolog', 'www.study.eu/university/slu-swedish-university-of-agricultural-sciences/euroforeste', 'www.study.eu/university/slu-swedish-university-of-agricultural-sciences/plant-biolog', 'www.study.eu/university/slu-swedish-university-of-agricultural-sciences/outdoor-environments-for-health-and-well-bein', 'www.study.eu/university/slu-swedish-university-of-agricultural-sciences/animal-scienc', 'www.study.eu/university/slu-swedish-university-of-agricultural-sciences/management-of-fish-and-wildlife-population', 'www.study.eu/university/slu-swedish-university-of-agricultural-sciences/agricultural-economics-and-managemen', 'www.study.eu/university/slu-swedish-university-of-agricultural-sciences/enveuro-european-environmental-scienc', 'www.study.eu/university/slu-swedish-university-of-agricultural-sciences/environmental-economics-and-managemen', 'www.study.eu/university/sodertorn-university-in-stockholm/interactive-media-design-in', 'www.study.eu/university/falmouth-university/acting-1073', 'www.study.eu/university/falmouth-university/animation-visual-effect', 'www.study.eu/university/falmouth-university/architecture-1229', 'www.study.eu/university/falmouth-university/artificial-intelligence-for-game', 'www.study.eu/university/falmouth-university/commercial-photography-1198', 'www.study.eu/university/falmouth-university/computing-for-game', 'www.study.eu/university/falmouth-university/costume-design-for-film-televisio', 'www.study.eu/university/falmouth-university/creative-advertisin', 'www.study.eu/university/falmouth-university/creative-music-technolog', 'www.study.eu/university/falmouth-university/dance-choreograph', 'www.study.eu/university/falmouth-university/drawin', 'www.study.eu/university/falmouth-university/fashion-design-1075', 'www.study.eu/university/falmouth-university/fashion-marketin', 'www.study.eu/university/falmouth-university/fashion-photograph', 'www.study.eu/university/falmouth-university/film-1075', 'www.study.eu/university/falmouth-university/fine-art-1075', 'www.study.eu/university/falmouth-university/game-ar', 'www.study.eu/university/falmouth-university/game-developmen', 'www.study.eu/university/falmouth-university/graphic-design-1075', 'www.study.eu/university/falmouth-university/illustration-1075', 'www.study.eu/university/falmouth-university/interior-design-1076', 'www.study.eu/university/falmouth-university/journalism-and-communication', 'www.study.eu/university/falmouth-university/journalism-and-creative-writin', 'www.study.eu/university/falmouth-university/marine-natural-history-photograph', 'www.study.eu/university/falmouth-university/music-1076', 'www.study.eu/university/falmouth-university/musical-theatr', 'www.study.eu/university/falmouth-university/music-theatre-entertainment-managemen', 'www.study.eu/university/falmouth-university/photography-1076', 'www.study.eu/university/falmouth-university/photography-top-up-onlin', 'www.study.eu/university/falmouth-university/popular-music-1076', 'www.study.eu/university/falmouth-university/press-editorial-photograph', 'www.study.eu/university/falmouth-university/sportswear-desig', 'www.study.eu/university/falmouth-university/sustainable-product-desig', 'www.study.eu/university/falmouth-university/technical-theatre-art', 'www.study.eu/university/falmouth-university/televisio', 'www.study.eu/university/falmouth-university/textile-desig', 'www.study.eu/university/falmouth-university/theatre-performanc', 'www.study.eu/university/falmouth-university/business-digital-marketin', 'www.study.eu/university/falmouth-university/creative-events-managemen', 'www.study.eu/university/falmouth-university/marketing-communications-1228', 'www.study.eu/university/falmouth-university/sustainable-festival-managemen', 'www.study.eu/university/falmouth-university/sustainable-tourism-managemen', 'www.study.eu/university/falmouth-university/web-development-1199', 'www.study.eu/university/falmouth-university/creative-robotic', 'www.study.eu/university/falmouth-university/creative-writing-1074', 'www.study.eu/university/falmouth-university/english-with-creative-writin', 'www.study.eu/university/falmouth-university/comedy-writing-onlin', 'www.study.eu/university/falmouth-university/communication-design-1078', 'www.study.eu/university/falmouth-university/creative-advertising-1078', 'www.study.eu/university/falmouth-university/film-televisio', 'www.study.eu/university/falmouth-university/game-art-1229', 'www.study.eu/university/falmouth-university/game-desig', 'www.study.eu/university/falmouth-university/graphic-design-onlin', 'www.study.eu/university/falmouth-university/illustration-authorial-practic', 'www.study.eu/university/falmouth-university/illustration-onlin', 'www.study.eu/university/falmouth-university/journalism-onlin', 'www.study.eu/university/falmouth-university/photography-onlin', 'www.study.eu/university/falmouth-university/writing-for-script-screen-onlin', 'www.study.eu/university/falmouth-university/advertising-strategy-planning-onlin', 'www.study.eu/university/falmouth-university/creative-events-management-onlin', 'www.study.eu/university/falmouth-university/launchpad-with-ma-entrepreneurshi', 'www.study.eu/university/falmouth-university/professional-writin', 'www.study.eu/university/university-of-kent/architecture-0bc67e21-a417-457d-8148-05e89bae868', 'www.study.eu/university/university-of-kent/accounting-and-finance-and-economic', 'www.study.eu/university/university-of-kent/accounting-and-finance-with-a-year-abroa', 'www.study.eu/university/university-of-kent/american-studies-b25f565d-9b45-4d95-8156-bd58bcf5019', 'www.study.eu/university/university-of-kent/american-studies-3c5988f5-81c1-4ddb-a88e-2c8c8eb1a4f', 'www.study.eu/university/university-of-kent/astronomy-space-science-and-astrophysics-a6a29dc0-f83a-41cb-8f28-9b6741843a2', 'www.study.eu/university/university-of-kent/astronomy-space-science-and-astrophysics-with-a-year-abroa', 'www.study.eu/university/university-of-kent/astronomy-space-science-and-astrophysics-with-a-year-in-ind', 'www.study.eu/university/vrije-universiteit-brussel-vub/architectural-engineering-1884', 'www.study.eu/university/vrije-universiteit-brussel-vub/applied-computer-science-1883', 'www.study.eu/university/vrije-universiteit-brussel-vub/biomedical-engineering-1884', 'www.study.eu/university/kaunas-university-of-technology-ktu/architecture-225', 'www.study.eu/university/kaunas-university-of-technology-ktu/accounting-and-auditin', 'www.study.eu/university/kaunas-university-of-technology-ktu/aeronautical-engineering-225', 'www.study.eu/university/kaunas-university-of-technology-ktu/aviation-engineerin', 'www.study.eu/university/kaunas-university-of-technology-ktu/biomedical-engineering-226', 'www.study.eu/university/kaunas-university-of-technology-ktu/applied-physics-225', 'www.study.eu/university/lancaster-university-leipzig/accounting-and-finance-1185', 'www.study.eu/university/lancaster-university-leipzig/accounting-and-finance-with-foundation-programm', 'www.study.eu/university/jonkoping-university/new-media-desig', 'www.study.eu/university/jonkoping-university/international-management-767', 'www.study.eu/university/jonkoping-university/marketing-management-777', 'www.study.eu/university/jonkoping-university/sustainable-enterprise-developmen', 'www.study.eu/university/jonkoping-university/prosthetics-and-orthotic', 'www.study.eu/university/jonkoping-university/international-economic', 'www.study.eu/university/jonkoping-university/digital-business-two-year', 'www.study.eu/university/jonkoping-university/global-management-775', 'www.study.eu/university/jonkoping-university/international-financial-analysi', 'www.study.eu/university/jonkoping-university/international-logistics-and-supply-chain-management-two-yea', 'www.study.eu/university/jonkoping-university/international-marketing-one-yea', 'www.study.eu/university/jonkoping-university/strategic-entrepreneurship-two-year', 'www.study.eu/university/jonkoping-university/sustainable-communicatio', 'www.study.eu/university/jonkoping-university/information-architecture-and-innovatio', 'www.study.eu/university/jonkoping-university/engineering-management-one-yea', 'www.study.eu/university/jonkoping-university/occupational-therap', 'www.study.eu/university/jonkoping-university/interventions-in-childhood-one-yea', 'www.study.eu/university/jonkoping-university/interventions-in-childhood-two-year', 'www.study.eu/university/university-of-new-york-in-prague/american-bachelor-in-english-language-and-literatur', 'www.study.eu/university/university-of-new-york-in-prague/american-bachelor-in-international-relation', 'www.study.eu/university/university-of-new-york-in-prague/american-bachelor-in-psycholog', 'www.study.eu/university/university-of-helsinki/agricultural-environmental-and-resource-economic', 'www.study.eu/university/university-of-helsinki/agricultural-science', 'www.study.eu/university/university-of-wurzburg/biochemistry-molecular-life-sciences-molecular-oncolog', 'www.study.eu/university/university-of-wurzburg/china-language-and-econom', 'www.study.eu/university/university-of-wurzburg/applied-earth-observation-and-geoanalysis-eagl', 'www.study.eu/university/university-of-szeged/agricultural-engineering-1126', 'www.study.eu/university/university-of-szeged/american-studies-1127', 'www.study.eu/university/university-of-szeged/comparative-intellectual-property-la', 'www.study.eu/university/university-of-szeged/applied-mathematics-1242', 'www.study.eu/university/linnaeus-university/aquatic-ecolog', 'www.study.eu/university/linnaeus-university/applied-mathematic', 'www.study.eu/university/linnaeus-university/business-process-control-and-supply-chain-management-fronti', 'www.study.eu/university/linnaeus-university/business-process-control-and-supply-chain-management-frontie-e39c1215-498a-492e-aeb7-c64b4b0f0e4', 'www.study.eu/university/linnaeus-university/chemistry-737', 'www.study.eu/university/linnaeus-university/design-chang', 'www.study.eu/university/linnaeus-university/design-change-743', 'www.study.eu/university/linnaeus-university/visual-communication-chang', 'www.study.eu/university/linnaeus-university/international-business-1747', 'www.study.eu/university/linnaeus-university/international-tourism-management-5e0219f2-38e8-4e48-9508-9430ad8ded0', 'www.study.eu/university/linnaeus-university/marketing-777', 'www.study.eu/university/linnaeus-university/network-securit', 'www.study.eu/university/linnaeus-university/software-technology-796', 'www.study.eu/university/linnaeus-university/innovation-through-business-engineering-and-design-specialis-7f0b6e6d-932e-4af7-bb8f-4b7faae1fa6', 'www.study.eu/university/linnaeus-university/economics-1746', 'www.study.eu/university/linnaeus-university/entrepreneurship-sustainability-and-social-chang', 'www.study.eu/university/linnaeus-university/innovation-through-business-engineering-and-design-speciali', 'www.study.eu/university/linnaeus-university/international-business-strateg', 'www.study.eu/university/linnaeus-university/leadership-and-management-in-international-contexts-1-yea', 'www.study.eu/university/linnaeus-university/marketing-776', 'www.study.eu/university/linnaeus-university/tourism-and-sustainabilit', 'www.study.eu/university/linnaeus-university/digital-humanities-onlin', 'www.study.eu/university/linnaeus-university/information-systems-762', 'www.study.eu/university/linnaeus-university/information-systems-onlin', 'www.study.eu/university/linnaeus-university/information-systems-online-1-yea', 'www.study.eu/university/linnaeus-university/mathematics-and-modelling-algebra-with-cryptography-and-cod', 'www.study.eu/university/linnaeus-university/social-media-and-web-technologie', 'www.study.eu/university/linnaeus-university/social-media-and-web-technologies-onlin', 'www.study.eu/university/linnaeus-university/software-technolog', 'www.study.eu/university/linnaeus-university/software-technology-1-yea', 'www.study.eu/university/linnaeus-university/electrical-engineering-specialisation-signal-processing-wav', 'www.study.eu/university/linnaeus-university/innovation-through-business-engineering-and-design-specialis-d7b689e0-e8f1-475d-8e5c-4756f31280a', 'www.study.eu/university/linnaeus-university/renewable-electric-power-system', 'www.study.eu/university/linnaeus-university/simulation-driven-product-developmen', 'www.study.eu/university/linnaeus-university/sustainable-energy-processes-and-system', 'www.study.eu/university/linnaeus-university/sustainable-structural-engineerin', 'www.study.eu/university/linnaeus-university/environmental-science-and-sustainabilit', 'www.study.eu/university/linnaeus-university/colonial-and-postcolonial-studie', 'www.study.eu/university/linnaeus-university/english-language-and-literature-218cafa3-586b-4501-9a26-ff73d7d3054', 'www.study.eu/university/linnaeus-university/health-scienc', 'www.study.eu/university/linnaeus-university/chemistry-1-yea', 'www.study.eu/university/linnaeus-university/mathematics-and-modelling-analysis-and-mathematical-physic', 'www.study.eu/university/linnaeus-university/mathematics-and-modelling-mathematical-statistics-and-finan', 'www.study.eu/university/linnaeus-university/physics-787', 'www.study.eu/university/linnaeus-university/physics-onlin', 'www.study.eu/university/linnaeus-university/international-affairs-d34284c3-a0e7-4693-b9e6-8d0174558c3', 'www.study.eu/university/linnaeus-university/peace-and-development-work-1-yea', 'www.study.eu/university/global-campus-of-human-rights/european-master-s-programme-in-human-rights-and-democratisa', 'www.study.eu/university/cife/global-energy-transition-and-governanc'], \"[21877878, '*', 65867243, 60911675, 15278019, '*', 26589921, 8103940]\": ['www.study.eu/university/chalmers-university-of-technology/industrial-design-engineering-760', 'www.study.eu/university/chalmers-university-of-technology/management-and-economics-of-innovatio', 'www.study.eu/university/chalmers-university-of-technology/supply-chain-managemen', 'www.study.eu/university/chalmers-university-of-technology/interaction-design-and-technologie', 'www.study.eu/university/chalmers-university-of-technology/sustainable-energy-system', 'www.study.eu/university/chalmers-university-of-technology/wireless-photonics-and-space-engineerin', 'www.study.eu/university/chalmers-university-of-technology/biomedical-engineering-735', 'www.study.eu/university/university-of-kent/architectural-visualisatio', 'www.study.eu/university/university-of-kent/accounting-and-finance-75c0e4e0-ed39-4e47-87ab-4e068fb3522', 'www.study.eu/university/university-of-kent/accounting-and-finance-and-economics-with-a-year-in-industr', 'www.study.eu/university/university-of-kent/actuarial-science-492', 'www.study.eu/university/university-of-kent/advanced-computer-science-03777b97-4a37-4b86-8505-1ed48537576', 'www.study.eu/university/university-of-kent/advanced-computer-science-computational-intelligenc', 'www.study.eu/university/university-of-kent/artificial-intelligence-1888', 'www.study.eu/university/university-of-kent/applied-bioscienc', 'www.study.eu/university/university-of-kent/biomedical-engineering-57832d20-f0d9-459d-89fb-53f0a20c484', 'www.study.eu/university/university-of-kent/biomedical-engineering-aa3a5a92-dcf2-4c90-a89b-35f310df635', 'www.study.eu/university/university-of-kent/biomedical-engineering-by-research-and-thesi', 'www.study.eu/university/university-of-kent/agri-environmental-economic', 'www.study.eu/university/university-of-kent/conservation-and-international-wildlife-trad', 'www.study.eu/university/university-of-kent/ancient-history-2986abde-b38b-4a6c-976e-95d35ba0934', 'www.study.eu/university/university-of-kent/ancient-medieval-and-modern-histor', 'www.study.eu/university/university-of-kent/applied-linguistics-with-tesol-teaching-english-to-speakers', 'www.study.eu/university/university-of-kent/english-and-french-la', 'www.study.eu/university/university-of-kent/european-legal-studie', 'www.study.eu/university/university-of-kent/european-legal-studies-with-germa', 'www.study.eu/university/university-of-kent/european-legal-studies-with-italia', 'www.study.eu/university/university-of-kent/european-legal-studies-with-spanis', 'www.study.eu/university/university-of-kent/advanced-and-specialist-healthcare-advanced-dental-clinical', 'www.study.eu/university/university-of-kent/applied-health-researc', 'www.study.eu/university/university-of-kent/biomedical-engineering-including-a-foundation-yea', 'www.study.eu/university/university-of-kent/applied-chemical-science', 'www.study.eu/university/university-of-kent/astronomy-space-science-and-astrophysic', 'www.study.eu/university/university-of-kent/advanced-child-protectio', 'www.study.eu/university/university-of-kent/advanced-research-in-criminolog', 'www.study.eu/university/university-of-kent/analysis-and-intervention-in-intellectual-and-developmental', 'www.study.eu/university/university-of-kent/anthropology-by-researc', 'www.study.eu/university/university-of-kent/anthropology-by-research-2d27cf02-bdea-43d0-8a0f-b12dc94dcc7', 'www.study.eu/university/kdg-university-of-applied-sciences-and-arts/applied-computer-science-1230', 'www.study.eu/university/university-of-vienna/anglophone-literatures-and-culture', 'www.study.eu/university/code-university-of-applied-sciences/interaction-design-1018', 'www.study.eu/university/code-university-of-applied-sciences/product-managemen', 'www.study.eu/university/code-university-of-applied-sciences/software-engineering-1017'], \"['*', 28031325, 56395195, 60005488, 15278019, '*', 18715876, 8103940]\": ['www.study.eu/best-universities/swede', 'www.study.eu/best-universities/franc', 'www.study.eu/best-universities/german', 'www.study.eu/best-universities/austri', 'www.study.eu/best-universities/belgiu', 'www.study.eu/best-universities/czech-republi', 'www.study.eu/best-universities/denmar', 'www.study.eu/best-universities/finlan', 'www.study.eu/best-universities/hungar', 'www.study.eu/best-universities/irelan', 'www.study.eu/best-universities/ital', 'www.study.eu/best-universities/lithuani', 'www.study.eu/best-universities/netherland', 'www.study.eu/best-universities/norwa', 'www.study.eu/best-universities/polan', 'www.study.eu/best-universities/romani', 'www.study.eu/best-universities/russi', 'www.study.eu/best-universities/spai', 'www.study.eu/best-universities/switzerlan', 'www.study.eu/best-universities/united-kingdo']})\n"
          ],
          "name": "stdout"
        }
      ]
    },
    {
      "cell_type": "markdown",
      "metadata": {
        "id": "N9XbFBjsWMdP"
      },
      "source": [
        "CALCOLO : PRECISION, RECALL E F1"
      ]
    },
    {
      "cell_type": "code",
      "metadata": {
        "id": "HfNBST5NPgYs",
        "colab": {
          "base_uri": "https://localhost:8080/"
        },
        "outputId": "acd7dfd1-c45c-4928-ac6a-0f49c52ffb5f"
      },
      "source": [
        "import pickle\n",
        "\n",
        "f_dominio_v = open(dominio+\"_v_soap.pkl\",\"rb\")\n",
        "\n",
        "denominatore_recall = 0\n",
        "f = pickle.load(f_dominio_v)\n",
        "denominatore_recall = len(f.keys())\n",
        "\n",
        "\n",
        "f_cluster_dominio = open(dominio+\"_clusters.pkl\", \"rb\")\n",
        "c = pickle.load(f_cluster_dominio)\n",
        "\n",
        "print(\"\\ncluster : {}\".format(f_cluster_dominio.name))\n",
        "denominatore_precision = 0\n",
        "numeratore_precision = 0\n",
        "\n",
        "for key, value in c.items():\n",
        "  print(key,value)\n",
        "  dizionario_precision = {}\n",
        "  numeratore_precision_cluster = 0\n",
        "  for link in value:\n",
        "    if link.rsplit(\"/\")[1] == \"movie\" :\n",
        "      link = link.replace(\"/movie/\",\"/tv/\")\n",
        "    if '/'.join(link.rsplit(\"/\")[:2]) in dizionario_precision.keys():\n",
        "      contatore = dizionario_precision.get('/'.join(link.rsplit(\"/\")[:2]))\n",
        "      contatore += 1\n",
        "      dizionario_precision['/'.join(link.rsplit(\"/\")[:2])] = contatore\n",
        "    else :\n",
        "      dizionario_precision['/'.join(link.rsplit(\"/\")[:2])] = 1\n",
        "\n",
        "  numeratore_precision_cluster += max(list(dizionario_precision.values()))\n",
        "  print(\"Precision cluster {} : {}\".format(key,numeratore_precision_cluster/len(value)))\n",
        "\n",
        "  denominatore_precision += len(value)\n",
        "  numeratore_precision += max(list(dizionario_precision.values()))\n",
        "\n",
        "\n",
        "\n",
        "precision = numeratore_precision/denominatore_precision\n",
        "recall = numeratore_precision/denominatore_recall\n",
        "f1 = (2*precision*recall)/(precision+recall)\n",
        "print(\"Precision {} : {} ; Recall {} : {} ; F1 : {}\".format(dominio,precision,dominio,recall,f1))\n",
        "\n"
      ],
      "execution_count": 4,
      "outputs": [
        {
          "output_type": "stream",
          "text": [
            "\n",
            "cluster : study_clusters.pkl\n",
            "[3601998, '*', 23187026, 42845222, '*', 915566, 32814414, 68809114] ['www.study.eu/country/austri', 'www.study.eu/country/belgiu', 'www.study.eu/country/czech-republi', 'www.study.eu/country/denmar', 'www.study.eu/country/finlan', 'www.study.eu/country/hungar', 'www.study.eu/country/irelan', 'www.study.eu/country/ital', 'www.study.eu/country/lithuani', 'www.study.eu/country/netherland', 'www.study.eu/country/norwa', 'www.study.eu/country/polan', 'www.study.eu/country/romani', 'www.study.eu/country/spai', 'www.study.eu/country/switzerlan', 'www.study.eu/country/united-kingdo', 'www.study.eu/article/study-zoolog', 'www.study.eu/article/what-is-the-ects-european-credit-transfer-and-accumulation-syste', 'www.study.eu/article/study-biomedicine-or-biomedical-science']\n",
            "Precision cluster [3601998, '*', 23187026, 42845222, '*', 915566, 32814414, 68809114] : 0.8421052631578947\n",
            "[42687545, 68651532, 23187026, 42845222, '*', '*', 32814414, 68809114] ['www.study.eu/country/estoni', 'www.study.eu/country/faroe-island', 'www.study.eu/country/greec', 'www.study.eu/country/icelan', 'www.study.eu/country/latvi', 'www.study.eu/country/liechtenstei', 'www.study.eu/country/malt', 'www.study.eu/best-universities/swede', 'www.study.eu/best-universities/german', 'www.study.eu/best-universities/austri', 'www.study.eu/best-universities/belgiu', 'www.study.eu/best-universities/czech-republi', 'www.study.eu/best-universities/denmar', 'www.study.eu/best-universities/finlan', 'www.study.eu/best-universities/hungar', 'www.study.eu/best-universities/irelan', 'www.study.eu/best-universities/ital', 'www.study.eu/best-universities/lithuani', 'www.study.eu/best-universities/netherland', 'www.study.eu/best-universities/norwa', 'www.study.eu/best-universities/polan', 'www.study.eu/best-universities/romani', 'www.study.eu/best-universities/russi', 'www.study.eu/best-universities/spai', 'www.study.eu/best-universities/switzerlan', 'www.study.eu/best-universities/united-kingdo']\n",
            "Precision cluster [42687545, 68651532, 23187026, 42845222, '*', '*', 32814414, 68809114] : 0.7307692307692307\n",
            "[42687545, 28564986, 23187026, '*', 68949168, '*', 32814414, 68809114] ['www.study.eu/country/portuga', 'www.study.eu/article/the-20-best-universities-in-scandinavia-ranking', 'www.study.eu/city/uppsal', 'www.study.eu/city/malm', 'www.study.eu/city/berli', 'www.study.eu/city/hambur', 'www.study.eu/city/munic', 'www.study.eu/city/breme', 'www.study.eu/city/cologn', 'www.study.eu/city/helsink', 'www.study.eu/city/vienn', 'www.study.eu/city/brussel', 'www.study.eu/city/aarhu', 'www.study.eu/city/copenhage', 'www.study.eu/city/aalbor', 'www.study.eu/city/tallin', 'www.study.eu/city/tart', 'www.study.eu/city/stockhol', 'www.study.eu/city/tamper', 'www.study.eu/city/rig', 'www.study.eu/city/kauna', 'www.study.eu/city/edinburg', 'www.study.eu/city/gothenbur']\n",
            "Precision cluster [42687545, 28564986, 23187026, '*', 68949168, '*', 32814414, 68809114] : 0.9130434782608695\n",
            "[42687545, 28564986, 23187026, 64276930, '*', 915566, 32814414, '*'] ['www.study.eu/university/university-west/child-and-youth-studies-1851', 'www.study.eu/university/university-west/international-mechanical-engineerin', 'www.study.eu/university/university-west/finance-754', 'www.study.eu/university/university-west/international-business-765', 'www.study.eu/university/university-west/it-and-managemen', 'www.study.eu/university/university-west/electric-vehicle-engineering-1850', 'www.study.eu/university/university-west/electric-vehicle-engineering-onlin', 'www.study.eu/university/university-west/manufacturing-engineering-1-yea', 'www.study.eu/university/university-west/manufacturing-engineering-2-year', 'www.study.eu/university/university-west/robotics-and-automation-1-year-onlin', 'www.study.eu/university/university-west/robotics-and-automation-2-years-onlin', 'www.study.eu/university/university-west/work-integrated-political-studie', 'www.study.eu/university/blekinge-institute-of-technology/mba-programme-part-tim', 'www.study.eu/university/blekinge-institute-of-technology/strategic-leadership-towards-sustainabilit', 'www.study.eu/university/blekinge-institute-of-technology/computer-science-741', 'www.study.eu/university/blekinge-institute-of-technology/software-engineering-795', 'www.study.eu/university/blekinge-institute-of-technology/electrical-engineering-with-emphasis-on-telecommunication-s', 'www.study.eu/university/blekinge-institute-of-technology/mechanical-engineering-with-emphasis-on-structural-mechanic', 'www.study.eu/university/blekinge-institute-of-technology/sustainable-urban-plannin', 'www.study.eu/university/dalarna-university/international-tourism-management-768', 'www.study.eu/university/dalarna-university/business-intelligenc', 'www.study.eu/university/dalarna-university/economics-of-tourism-and-event', 'www.study.eu/university/dalarna-university/master-program-in-business-studies-with-an-international-fo', 'www.study.eu/university/dalarna-university/tourism-destination-developmen', 'www.study.eu/university/dalarna-university/solar-energy-engineerin', 'www.study.eu/university/dalarna-university/english-with-specialisation-in-literature-in-englis', 'www.study.eu/university/dalarna-university/african-studie', 'www.study.eu/university/halmstad-university/network-design-and-computer-managemen', 'www.study.eu/university/halmstad-university/strategic-entrepreneurship-for-international-growth-with-sp', 'www.study.eu/university/halmstad-university/strategic-entrepreneurship-for-international-growth-with-spe-1ae79e63-902a-4d59-aed5-3c588274bbf', 'www.study.eu/university/halmstad-university/information-technolog', 'www.study.eu/university/halmstad-university/applied-environmental-scienc', 'www.study.eu/university/halmstad-university/electronics-desig', 'www.study.eu/university/halmstad-university/embedded-and-intelligent-system', 'www.study.eu/university/halmstad-university/industrial-management-and-innovatio', 'www.study.eu/university/halmstad-university/mechanical-engineering-779', 'www.study.eu/university/halmstad-university/renewable-energy-system', 'www.study.eu/university/halmstad-university/exercise-biomedicine-human-performanc', 'www.study.eu/university/karlstad-university/global-media-studie', 'www.study.eu/university/karlstad-university/accounting-and-contro', 'www.study.eu/university/karlstad-university/marketin', 'www.study.eu/university/karlstad-university/service-managemen', 'www.study.eu/university/karlstad-university/computer-science-740', 'www.study.eu/university/karlstad-university/information-systems-762', 'www.study.eu/university/karlstad-university/engineering-degree-programme-in-engineering-physic', 'www.study.eu/university/karlstad-university/biology-ecology-and-conservation-biolog', 'www.study.eu/university/karlstad-university/economics-745', 'www.study.eu/university/karlstad-university/region-buildin', 'www.study.eu/university/karolinska-institutet/biomedicine-735', 'www.study.eu/university/karolinska-institutet/bioentrepreneurshi', 'www.study.eu/university/karolinska-institutet/health-economics-policy-and-management-758', 'www.study.eu/university/karolinska-institutet/joint-health-informatic', 'www.study.eu/university/karolinska-institutet/global-healt', 'www.study.eu/university/karolinska-institutet/public-health-sciences-specialization-public-health-epidemi', 'www.study.eu/university/karolinska-institutet/toxicolog', 'www.study.eu/university/kristianstad-university/computer-science-and-engineering-specialization-in-embedded', 'www.study.eu/university/kristianstad-university/computer-science-and-engineering-with-ten-weeks-introductio', 'www.study.eu/university/kristianstad-university/software-development-795', 'www.study.eu/university/kristianstad-university/english-language-literature-and-societ', 'www.study.eu/university/kristianstad-university/one-year-computer-science-with-specialization-in-embedded-s', 'www.study.eu/university/kristianstad-university/integrative-health-scienc', 'www.study.eu/university/kth-royal-institute-of-technology/information-and-communication-technology-761', 'www.study.eu/university/kth-royal-institute-of-technology/architectural-lighting-desig', 'www.study.eu/university/kth-royal-institute-of-technology/architectur', 'www.study.eu/university/kth-royal-institute-of-technology/engineering-design-track-machine-desig', 'www.study.eu/university/kth-royal-institute-of-technology/engineering-design-track-mechatronic', 'www.study.eu/university/kth-royal-institute-of-technology/integrated-product-design-track-industrial-design-engineeri', 'www.study.eu/university/kth-royal-institute-of-technology/integrated-product-design-track-innovation-management-and-p', 'www.study.eu/university/kth-royal-institute-of-technology/interactive-media-technolog', 'www.study.eu/university/kth-royal-institute-of-technology/real-estate-and-construction-managemen', 'www.study.eu/university/kth-royal-institute-of-technology/entrepreneurship-and-innovation-managemen', 'www.study.eu/university/kth-royal-institute-of-technology/media-managemen', 'www.study.eu/university/kth-royal-institute-of-technology/computer-science-741', 'www.study.eu/university/kth-royal-institute-of-technology/computer-simulations-for-science-and-engineerin', 'www.study.eu/university/kth-royal-institute-of-technology/ict-innovatio', 'www.study.eu/university/kth-royal-institute-of-technology/information-and-network-engineerin', 'www.study.eu/university/kth-royal-institute-of-technology/machine-learnin', 'www.study.eu/university/kth-royal-institute-of-technology/software-engineering-of-distributed-system', 'www.study.eu/university/kth-royal-institute-of-technology/transport-and-geoinformation-technolog', 'www.study.eu/university/kth-royal-institute-of-technology/aerospace-engineerin', 'www.study.eu/university/kth-royal-institute-of-technology/chemical-engineering-for-energy-and-environmen', 'www.study.eu/university/kth-royal-institute-of-technology/civil-and-architectural-engineering-739', 'www.study.eu/university/kth-royal-institute-of-technology/communication-systems-740', 'www.study.eu/university/kth-royal-institute-of-technology/electric-power-engineering-747', 'www.study.eu/university/kth-royal-institute-of-technology/embedded-system', 'www.study.eu/university/kth-royal-institute-of-technology/engineering-design-track-combustion-engineerin', 'www.study.eu/university/kth-royal-institute-of-technology/engineering-materials-scienc', 'www.study.eu/university/kth-royal-institute-of-technology/engineering-mechanic', 'www.study.eu/university/kth-royal-institute-of-technology/environmental-engineering-and-sustainable-infrastructur', 'www.study.eu/university/kth-royal-institute-of-technology/industrial-and-environmental-biotechnolog', 'www.study.eu/university/kth-royal-institute-of-technology/industrial-managemen', 'www.study.eu/university/kth-royal-institute-of-technology/macromolecular-material', 'www.study.eu/university/kth-royal-institute-of-technology/macromolecular-materials-track-polymer-technolog', 'www.study.eu/university/kth-royal-institute-of-technology/medical-biotechnology-780', 'www.study.eu/university/kth-royal-institute-of-technology/molecular-science-and-engineerin', 'www.study.eu/university/kth-royal-institute-of-technology/molecular-techniques-in-life-scienc', 'www.study.eu/university/kth-royal-institute-of-technology/nanotechnology-784', 'www.study.eu/university/kth-royal-institute-of-technology/naval-architecture-784', 'www.study.eu/university/kth-royal-institute-of-technology/nuclear-energy-engineerin', 'www.study.eu/university/kth-royal-institute-of-technology/production-engineering-and-managemen', 'www.study.eu/university/kth-royal-institute-of-technology/sustainable-energy-engineerin', 'www.study.eu/university/kth-royal-institute-of-technology/sustainable-technolog', 'www.study.eu/university/kth-royal-institute-of-technology/systems-control-and-robotic', 'www.study.eu/university/kth-royal-institute-of-technology/turbomachinery-aeromechanic-university-training-track-aerom', 'www.study.eu/university/kth-royal-institute-of-technology/turbomachinery-aeromechanic-university-training-track-struc', 'www.study.eu/university/kth-royal-institute-of-technology/turbomachinery-aeromechanic-university-training-track-unste', 'www.study.eu/university/kth-royal-institute-of-technology/vehicle-engineering-802', 'www.study.eu/university/kth-royal-institute-of-technology/medical-engineerin', 'www.study.eu/university/kth-royal-institute-of-technology/applied-and-computational-mathematic', 'www.study.eu/university/kth-royal-institute-of-technology/electrophysic', 'www.study.eu/university/kth-royal-institute-of-technology/engineering-physic', 'www.study.eu/university/kth-royal-institute-of-technology/economics-of-innovation-and-growt', 'www.study.eu/university/kth-royal-institute-of-technology/sustainable-urban-planning-and-desig', 'www.study.eu/university/kth-royal-institute-of-technology/urbanism-studie', 'www.study.eu/university/linkoping-university/design-743', 'www.study.eu/university/linkoping-university/business-administration-strategy-and-management-in-internat', 'www.study.eu/university/linkoping-university/computer-science-741', 'www.study.eu/university/linkoping-university/intelligent-transport-systems-and-logistic', 'www.study.eu/university/linkoping-university/aeronautical-engineerin', 'www.study.eu/university/linkoping-university/biomedical-engineering-734', 'www.study.eu/university/linkoping-university/communication-system', 'www.study.eu/university/linkoping-university/electronics-engineering-747', 'www.study.eu/university/linkoping-university/industrial-engineering-and-managemen', 'www.study.eu/university/linkoping-university/materials-science-and-nanotechnology-777', 'www.study.eu/university/linkoping-university/mechanical-engineering-779', 'www.study.eu/university/linkoping-university/science-for-sustainable-developmen', 'www.study.eu/university/linkoping-university/sustainability-engineering-and-managemen', 'www.study.eu/university/linkoping-university/experimental-and-medical-bioscience', 'www.study.eu/university/linkoping-university/outdoor-environmental-education-and-outdoor-lif', 'www.study.eu/university/linkoping-university/applied-ethology-and-animal-biolog', 'www.study.eu/university/linkoping-university/ecology-and-the-environmen', 'www.study.eu/university/linkoping-university/organic-synthesis-and-medicinal-chemistr', 'www.study.eu/university/linkoping-university/statistics-and-data-minin', 'www.study.eu/university/linkoping-university/adult-learning-and-global-chang', 'www.study.eu/university/linkoping-university/applied-ethic', 'www.study.eu/university/linkoping-university/child-studie', 'www.study.eu/university/linkoping-university/ethnic-and-migration-studie', 'www.study.eu/university/linkoping-university/gender-studies-intersectionality-and-chang', 'www.study.eu/university/linkoping-university/international-and-european-relation', 'www.study.eu/university/lulea-university-of-technology/music-performance-specialization-classical-musicia', 'www.study.eu/university/lulea-university-of-technology/music-performance-specialization-compositio', 'www.study.eu/university/lulea-university-of-technology/music-performance-specialization-conductin', 'www.study.eu/university/lulea-university-of-technology/music-performance-specialization-jazz-musicia', 'www.study.eu/university/lulea-university-of-technology/music-performance-specialization-music-production-in-pop-ro', 'www.study.eu/university/lulea-university-of-technology/music-performance-specialization-rock-musicia', 'www.study.eu/university/lulea-university-of-technology/computer-science-and-engineering-specialization-in-distribu', 'www.study.eu/university/lulea-university-of-technology/information-security-campus-lule', 'www.study.eu/university/lulea-university-of-technology/information-security-internet-based-distance-educatio', 'www.study.eu/university/lulea-university-of-technology/civil-engineering-with-specialization-in-mining-and-geotech', 'www.study.eu/university/lulea-university-of-technology/composite-material', 'www.study.eu/university/lulea-university-of-technology/maintenance-engineerin', 'www.study.eu/university/lulea-university-of-technology/minerals-and-metallurgical-engineerin', 'www.study.eu/university/lulea-university-of-technology/spacecraft-desig', 'www.study.eu/university/lulea-university-of-technology/space-science-and-technolog', 'www.study.eu/university/lulea-university-of-technology/wood-technolog', 'www.study.eu/university/lulea-university-of-technology/earths-atmosphere-and-the-solar-syste', 'www.study.eu/university/lulea-university-of-technology/exploration-and-environmental-geoscience', 'www.study.eu/university/lund-university/international-business-764', 'www.study.eu/university/lund-university/sciences-mathematic', 'www.study.eu/university/lund-university/sciences-physic', 'www.study.eu/university/lund-university/development-studie', 'www.study.eu/university/lund-university/sciences-physical-geography-and-ecosystem-analysi', 'www.study.eu/university/lund-university/architecture-731', 'www.study.eu/university/lund-university/church-music-arrangement-and-compositio', 'www.study.eu/university/lund-university/church-music-organ-and-keyboar', 'www.study.eu/university/lund-university/church-music-vocal-music-and-choi', 'www.study.eu/university/lund-university/energy-efficient-and-environmental-building-desig', 'www.study.eu/university/lund-university/film-and-media-histor', 'www.study.eu/university/lund-university/music-compositio', 'www.study.eu/university/lund-university/music-composition-diplom', 'www.study.eu/university/lund-university/music-guita', 'www.study.eu/university/lund-university/music-harpsichor', 'www.study.eu/university/lund-university/music-interpretation-diplom', 'www.study.eu/university/lund-university/music-jazz-improvisatio', 'www.study.eu/university/lund-university/music-pian', 'www.study.eu/university/lund-university/music-recorde', 'www.study.eu/university/lund-university/music-symphony-orchestra-instrumen', 'www.study.eu/university/lund-university/music-vocal-studie', 'www.study.eu/university/lund-university/accounting-and-financ', 'www.study.eu/university/lund-university/entrepreneurship-and-innovatio', 'www.study.eu/university/lund-university/environmental-management-and-polic', 'www.study.eu/university/lund-university/financ', 'www.study.eu/university/lund-university/international-marketing-brand-managemen', 'www.study.eu/university/lund-university/international-strategic-managemen', 'www.study.eu/university/lund-university/logistics-and-supply-chain-managemen', 'www.study.eu/university/lund-university/management-775', 'www.study.eu/university/lund-university/managing-people-knowledge-chang', 'www.study.eu/university/lund-university/media-and-communication-studies-779', 'www.study.eu/university/lund-university/public-health-791', 'www.study.eu/university/lund-university/service-management-retai', 'www.study.eu/university/lund-university/service-management-supply-chain-managemen', 'www.study.eu/university/lund-university/service-management-touris', 'www.study.eu/university/lund-university/strategic-communicatio', 'www.study.eu/university/lund-university/welfare-policies-and-managemen', 'www.study.eu/university/lund-university/information-systems-761', 'www.study.eu/university/lund-university/disaster-risk-management-and-climate-change-adaptatio', 'www.study.eu/university/lund-university/embedded-electronics-engineerin', 'www.study.eu/university/lund-university/environmental-studies-and-sustainability-scienc', 'www.study.eu/university/lund-university/industrial-design-760', 'www.study.eu/university/lund-university/innovation-and-spatial-dynamic', 'www.study.eu/university/lund-university/water-resources-engineerin', 'www.study.eu/university/lund-university/wireless-communications-802', 'www.study.eu/university/lund-university/biology-animal-ecolog', 'www.study.eu/university/lund-university/biology-plant-scienc', 'www.study.eu/university/lund-university/geology-bedrock-geolog', 'www.study.eu/university/lund-university/geology-quaternary-geolog', 'www.study.eu/university/lund-university/archaeology-theory-and-practic', 'www.study.eu/university/lund-university/language-and-linguistics-arabic-semitic-language', 'www.study.eu/university/lund-university/language-and-linguistics-chines', 'www.study.eu/university/lund-university/language-and-linguistics-cognitive-semiotic', 'www.study.eu/university/lund-university/language-and-linguistics-englis', 'www.study.eu/university/lund-university/language-and-linguistics-frenc', 'www.study.eu/university/lund-university/language-and-linguistics-general-linguistic', 'www.study.eu/university/lund-university/language-and-linguistics-germa', 'www.study.eu/university/lund-university/language-and-linguistics-greek-modern-gree', 'www.study.eu/university/lund-university/language-and-linguistics-italia', 'www.study.eu/university/lund-university/language-and-linguistics-lati', 'www.study.eu/university/lund-university/language-and-linguistics-phonetic', 'www.study.eu/university/lund-university/language-and-linguistics-rhetori', 'www.study.eu/university/lund-university/language-and-linguistics-romania', 'www.study.eu/university/lund-university/language-and-linguistics-swedish-scandinavian-language', 'www.study.eu/university/lund-university/literature-culture-media-english-literatur', 'www.study.eu/university/lund-university/literature-culture-media-french-literatur', 'www.study.eu/university/lund-university/literature-culture-media-general-literatur', 'www.study.eu/university/lund-university/literature-culture-media-german-literatur', 'www.study.eu/university/lund-university/literature-culture-media-russian-literatur', 'www.study.eu/university/lund-university/literature-culture-media-scandinavian-studie', 'www.study.eu/university/lund-university/literature-culture-media-spanish-literatur', 'www.study.eu/university/lund-university/literature-culture-media-yiddish-literatur', 'www.study.eu/university/lund-university/religious-roots-of-europe-792', 'www.study.eu/university/lund-university/european-and-international-tax-la', 'www.study.eu/university/lund-university/european-business-la', 'www.study.eu/university/lund-university/international-human-rights-la', 'www.study.eu/university/lund-university/food-technology-and-nutritio', 'www.study.eu/university/lund-university/human-ecolog', 'www.study.eu/university/lund-university/medical-science-aging-and-healt', 'www.study.eu/university/lund-university/astrophysic', 'www.study.eu/university/lund-university/bioinformatics-732', 'www.study.eu/university/lund-university/biology-aquatic-ecolog', 'www.study.eu/university/lund-university/biology-conservation-biolog', 'www.study.eu/university/lund-university/biology-genera', 'www.study.eu/university/lund-university/biomedicine-735', 'www.study.eu/university/lund-university/biotechnology-735', 'www.study.eu/university/lund-university/chemistry-737', 'www.study.eu/university/lund-university/mathematical-statistic', 'www.study.eu/university/lund-university/mathematics-778', 'www.study.eu/university/lund-university/molecular-biology-medical-biolog', 'www.study.eu/university/lund-university/molecular-biology-microbiolog', 'www.study.eu/university/lund-university/molecular-biology-molecular-genetics-and-biotechnolog', 'www.study.eu/university/lund-university/organizing-molecular-matte', 'www.study.eu/university/lund-university/physics-biological-physics-and-computational-biolog', 'www.study.eu/university/lund-university/physics-genera', 'www.study.eu/university/lund-university/physics-materials-scienc', 'www.study.eu/university/lund-university/physics-nanoscienc', 'www.study.eu/university/lund-university/physics-particle-physic', 'www.study.eu/university/lund-university/physics-photonic', 'www.study.eu/university/lund-university/physics-theoretical-physic', 'www.study.eu/university/lund-university/protein-scienc', 'www.study.eu/university/lund-university/synchrotron-radiation-based-scienc', 'www.study.eu/university/lund-university/applied-cultural-analysi', 'www.study.eu/university/lund-university/asian-studies-731', 'www.study.eu/university/lund-university/atmospheric-sciences-and-biogeochemical-cycle', 'www.study.eu/university/lund-university/development-studies-743', 'www.study.eu/university/lund-university/economic-growth-population-and-developmen', 'www.study.eu/university/lund-university/economics-746', 'www.study.eu/university/lund-university/european-affair', 'www.study.eu/university/lund-university/european-studies-753', 'www.study.eu/university/lund-university/geographical-information-system', 'www.study.eu/university/lund-university/geomatics-756', 'www.study.eu/university/lund-university/global-studie', 'www.study.eu/university/lund-university/human-geography-758', 'www.study.eu/university/lund-university/international-development-and-managemen', 'www.study.eu/university/lund-university/international-economics-with-a-focus-on-chin', 'www.study.eu/university/lund-university/middle-eastern-studies-780', 'www.study.eu/university/lund-university/physical-geography-and-ecosystem-analysi', 'www.study.eu/university/lund-university/psychology-791', 'www.study.eu/university/lund-university/social-studies-of-gende', 'www.study.eu/university/lund-university/sociology-of-la', 'www.study.eu/university/lund-university/sustainable-urban-desig', 'www.study.eu/university/malardalen-university/analytical-financ', 'www.study.eu/university/malardalen-university/international-business-management-765', 'www.study.eu/university/malardalen-university/innovation-and-desig', 'www.study.eu/university/malardalen-university/financial-engineering-754', 'www.study.eu/university/malardalen-university/international-marketin', 'www.study.eu/university/malardalen-university/product-and-process-development-production-and-logistic', 'www.study.eu/university/malardalen-university/software-engineering-795', 'www.study.eu/university/malardalen-university/intelligent-embedded-system', 'www.study.eu/university/malardalen-university/sustainable-energy-systems-798', 'www.study.eu/university/malardalen-university/health-and-welfare-caring-science-and-nursin', 'www.study.eu/university/malardalen-university/engineering-mathematic', 'www.study.eu/university/malardalen-university/health-and-welfare-social-wor', 'www.study.eu/university/malardalen-university/health-and-welfare-work-life-studie', 'www.study.eu/university/malmo-university/english-studie', 'www.study.eu/university/malmo-university/european-studies-politics-societies-and-culture', 'www.study.eu/university/malmo-university/human-right', 'www.study.eu/university/malmo-university/international-migration-and-ethnic-relation', 'www.study.eu/university/malmo-university/international-relations-768', 'www.study.eu/university/malmo-university/peace-and-conflict-studies-786', 'www.study.eu/university/malmo-university/interaction-design-one-yea', 'www.study.eu/university/malmo-university/interaction-design-two-yea', 'www.study.eu/university/malmo-university/leadership-for-sustainability-one-yea', 'www.study.eu/university/malmo-university/media-and-communication-studies-culture-collaborative-media', 'www.study.eu/university/malmo-university/media-and-communication-studies-culture-collaborative-media--2d236a30-bb46-46f1-b5ca-b6b613fa9a6', 'www.study.eu/university/malmo-university/media-technology-strategic-media-development-one-yea', 'www.study.eu/university/malmo-university/computer-science-one-yea', 'www.study.eu/university/malmo-university/criminology-two-yea', 'www.study.eu/university/malmo-university/biomedical-surface-science-two-yea', 'www.study.eu/university/malmo-university/communication-for-developmen', 'www.study.eu/university/malmo-university/international-migration-and-ethnic-relations-one-yea', 'www.study.eu/university/malmo-university/international-migration-and-ethnic-relations-two-yea', 'www.study.eu/university/malmo-university/political-science-global-politics-and-societal-change-one-y', 'www.study.eu/university/malmo-university/political-science-global-politics-two-yea', 'www.study.eu/university/malmo-university/urban-studies-two-yea', 'www.study.eu/university/mid-sweden-university/ecotechnolog', 'www.study.eu/university/mid-sweden-university/business-administration-marketing-and-managemen', 'www.study.eu/university/mid-sweden-university/tourism-800', 'www.study.eu/university/mid-sweden-university/tourism-studie', 'www.study.eu/university/mid-sweden-university/international-computer-engineerin', 'www.study.eu/university/mid-sweden-university/electronic-systems-and-instrumentatio', 'www.study.eu/university/mid-sweden-university/embedded-sensor-system', 'www.study.eu/university/mid-sweden-university/international-ecotechnology-and-sustainable-developmen', 'www.study.eu/university/mid-sweden-university/sports-science-performance-optimisation-with-a-focus-on-eli', 'www.study.eu/university/orebro-university/journalism-connecte', 'www.study.eu/university/orebro-university/robotics-and-intelligent-systems-one-two-year-master-s-prog', 'www.study.eu/university/orebro-university/cardiovascular-medicin', 'www.study.eu/university/orebro-university/innate-immunity-in-health-and-diseas', 'www.study.eu/university/orebro-university/nutritional-molecular-medicine-and-bioinformatic', 'www.study.eu/university/orebro-university/sports-physiology-and-medicine-programm', 'www.study.eu/university/orebro-university/applied-statistic', 'www.study.eu/university/orebro-university/chemistry-in-environmental-forensic', 'www.study.eu/university/orebro-university/public-planning-for-sustainable-developmen', 'www.study.eu/university/orebro-university/social-analysi', 'www.study.eu/university/slu-swedish-university-of-agricultural-sciences/landscape-architectur', 'www.study.eu/university/slu-swedish-university-of-agricultural-sciences/environmental-communication-and-managemen', 'www.study.eu/university/slu-swedish-university-of-agricultural-sciences/rural-development-and-natural-resource-managemen', 'www.study.eu/university/slu-swedish-university-of-agricultural-sciences/soil-and-water-managemen', 'www.study.eu/university/slu-swedish-university-of-agricultural-sciences/sustainable-developmen', 'www.study.eu/university/slu-swedish-university-of-agricultural-sciences/agroecolog', 'www.study.eu/university/slu-swedish-university-of-agricultural-sciences/euroforeste', 'www.study.eu/university/slu-swedish-university-of-agricultural-sciences/plant-biolog', 'www.study.eu/university/slu-swedish-university-of-agricultural-sciences/outdoor-environments-for-health-and-well-bein', 'www.study.eu/university/slu-swedish-university-of-agricultural-sciences/animal-scienc', 'www.study.eu/university/slu-swedish-university-of-agricultural-sciences/management-of-fish-and-wildlife-population', 'www.study.eu/university/slu-swedish-university-of-agricultural-sciences/agricultural-economics-and-managemen', 'www.study.eu/university/slu-swedish-university-of-agricultural-sciences/enveuro-european-environmental-scienc', 'www.study.eu/university/slu-swedish-university-of-agricultural-sciences/environmental-economics-and-managemen', 'www.study.eu/university/sodertorn-university-in-stockholm/interactive-media-design-in', 'www.study.eu/university/falmouth-university/animation-visual-effect', 'www.study.eu/university/falmouth-university/architecture-1074', 'www.study.eu/university/falmouth-university/architecture-1229', 'www.study.eu/university/falmouth-university/artificial-intelligence-for-game', 'www.study.eu/university/falmouth-university/commercial-photography-1198', 'www.study.eu/university/falmouth-university/computing-for-game', 'www.study.eu/university/falmouth-university/costume-design-for-film-televisio', 'www.study.eu/university/falmouth-university/creative-advertisin', 'www.study.eu/university/falmouth-university/creative-music-technolog', 'www.study.eu/university/falmouth-university/dance-choreograph', 'www.study.eu/university/falmouth-university/drawin', 'www.study.eu/university/falmouth-university/fashion-design-1075', 'www.study.eu/university/falmouth-university/fashion-marketin', 'www.study.eu/university/falmouth-university/fashion-photograph', 'www.study.eu/university/falmouth-university/film-1075', 'www.study.eu/university/falmouth-university/game-ar', 'www.study.eu/university/falmouth-university/game-developmen', 'www.study.eu/university/falmouth-university/graphic-design-1075', 'www.study.eu/university/falmouth-university/illustration-1075', 'www.study.eu/university/falmouth-university/interior-design-1076', 'www.study.eu/university/falmouth-university/journalism-1076', 'www.study.eu/university/falmouth-university/journalism-and-communication', 'www.study.eu/university/falmouth-university/journalism-and-creative-writin', 'www.study.eu/university/falmouth-university/marine-natural-history-photograph', 'www.study.eu/university/falmouth-university/music-1076', 'www.study.eu/university/falmouth-university/musical-theatr', 'www.study.eu/university/falmouth-university/music-theatre-entertainment-managemen', 'www.study.eu/university/falmouth-university/photography-1076', 'www.study.eu/university/falmouth-university/photography-top-up-onlin', 'www.study.eu/university/falmouth-university/popular-music-1076', 'www.study.eu/university/falmouth-university/press-editorial-photograph', 'www.study.eu/university/falmouth-university/sports-journalis', 'www.study.eu/university/falmouth-university/sportswear-desig', 'www.study.eu/university/falmouth-university/sustainable-product-desig', 'www.study.eu/university/falmouth-university/technical-theatre-art', 'www.study.eu/university/falmouth-university/televisio', 'www.study.eu/university/falmouth-university/textile-desig', 'www.study.eu/university/falmouth-university/theatre-performanc', 'www.study.eu/university/falmouth-university/business-digital-marketin', 'www.study.eu/university/falmouth-university/business-entrepreneurshi', 'www.study.eu/university/falmouth-university/business-management-1078', 'www.study.eu/university/falmouth-university/creative-events-managemen', 'www.study.eu/university/falmouth-university/marketing-communications-1228', 'www.study.eu/university/falmouth-university/sustainable-festival-managemen', 'www.study.eu/university/falmouth-university/sustainable-tourism-managemen', 'www.study.eu/university/falmouth-university/creative-virtual-realit', 'www.study.eu/university/falmouth-university/immersive-computin', 'www.study.eu/university/falmouth-university/web-development-1199', 'www.study.eu/university/falmouth-university/creative-robotic', 'www.study.eu/university/falmouth-university/creative-writing-1074', 'www.study.eu/university/falmouth-university/english-with-creative-writin', 'www.study.eu/university/falmouth-university/comedy-writing-onlin', 'www.study.eu/university/falmouth-university/communication-design-1078', 'www.study.eu/university/falmouth-university/creative-advertising-1078', 'www.study.eu/university/falmouth-university/film-televisio', 'www.study.eu/university/falmouth-university/game-art-1229', 'www.study.eu/university/falmouth-university/game-desig', 'www.study.eu/university/falmouth-university/graphic-design-onlin', 'www.study.eu/university/falmouth-university/illustration-authorial-practic', 'www.study.eu/university/falmouth-university/illustration-onlin', 'www.study.eu/university/falmouth-university/journalism-onlin', 'www.study.eu/university/falmouth-university/photography-onlin', 'www.study.eu/university/falmouth-university/writing-for-script-screen-onlin', 'www.study.eu/university/falmouth-university/advertising-strategy-planning-onlin', 'www.study.eu/university/falmouth-university/business-finance-innovatio', 'www.study.eu/university/falmouth-university/creative-events-management-onlin', 'www.study.eu/university/falmouth-university/launchpad-with-ma-entrepreneurshi', 'www.study.eu/university/falmouth-university/professional-writin', 'www.study.eu/university/university-of-kent/architecture-0bc67e21-a417-457d-8148-05e89bae868', 'www.study.eu/university/university-of-kent/artificial-intelligence-1888', 'www.study.eu/university/university-of-kent/american-studies-3c5988f5-81c1-4ddb-a88e-2c8c8eb1a4f', 'www.study.eu/university/university-of-kent/ancient-medieval-and-modern-histor', 'www.study.eu/university/university-of-kent/applied-chemical-science', 'www.study.eu/university/vrije-universiteit-brussel-vub/architectural-engineering-1884', 'www.study.eu/university/vrije-universiteit-brussel-vub/applied-computer-science-1883', 'www.study.eu/university/vrije-universiteit-brussel-vub/biomedical-engineering-1884', 'www.study.eu/university/kaunas-university-of-technology-ktu/architecture-225', 'www.study.eu/university/kaunas-university-of-technology-ktu/accounting-and-auditin', 'www.study.eu/university/kaunas-university-of-technology-ktu/aeronautical-engineering-225', 'www.study.eu/university/kaunas-university-of-technology-ktu/aviation-engineerin', 'www.study.eu/university/kaunas-university-of-technology-ktu/biomedical-engineering-226', 'www.study.eu/university/kaunas-university-of-technology-ktu/applied-physics-225', 'www.study.eu/university/lancaster-university-leipzig/accounting-and-finance-1185', 'www.study.eu/university/lancaster-university-leipzig/accounting-and-finance-with-foundation-programm', 'www.study.eu/university/jonkoping-university/new-media-desig', 'www.study.eu/university/jonkoping-university/international-management-767', 'www.study.eu/university/jonkoping-university/marketing-management-777', 'www.study.eu/university/jonkoping-university/sustainable-enterprise-developmen', 'www.study.eu/university/jonkoping-university/prosthetics-and-orthotic', 'www.study.eu/university/jonkoping-university/international-economic', 'www.study.eu/university/jonkoping-university/digital-business-two-year', 'www.study.eu/university/jonkoping-university/global-management-775', 'www.study.eu/university/jonkoping-university/international-financial-analysi', 'www.study.eu/university/jonkoping-university/international-logistics-and-supply-chain-management-two-yea', 'www.study.eu/university/jonkoping-university/international-marketing-one-yea', 'www.study.eu/university/jonkoping-university/strategic-entrepreneurship-two-year', 'www.study.eu/university/jonkoping-university/sustainable-communicatio', 'www.study.eu/university/jonkoping-university/information-architecture-and-innovatio', 'www.study.eu/university/jonkoping-university/engineering-management-one-yea', 'www.study.eu/university/jonkoping-university/occupational-therap', 'www.study.eu/university/jonkoping-university/interventions-in-childhood-one-yea', 'www.study.eu/university/jonkoping-university/interventions-in-childhood-two-year', 'www.study.eu/university/university-of-new-york-in-prague/american-bachelor-in-english-language-and-literatur', 'www.study.eu/university/university-of-new-york-in-prague/american-bachelor-in-international-relation', 'www.study.eu/university/university-of-new-york-in-prague/american-bachelor-in-psycholog', 'www.study.eu/university/university-of-helsinki/agricultural-environmental-and-resource-economic', 'www.study.eu/university/university-of-helsinki/agricultural-science', 'www.study.eu/university/university-of-helsinki/atmospheric-science', 'www.study.eu/university/university-of-helsinki/global-governance-la', 'www.study.eu/university/university-of-wurzburg/biochemistry-molecular-life-sciences-molecular-oncolog', 'www.study.eu/university/university-of-wurzburg/china-language-and-econom', 'www.study.eu/university/university-of-wurzburg/applied-earth-observation-and-geoanalysis-eagl', 'www.study.eu/university/university-of-szeged/agricultural-engineering-1126', 'www.study.eu/university/university-of-szeged/american-studies-1127', 'www.study.eu/university/university-of-szeged/comparative-intellectual-property-la', 'www.study.eu/university/university-of-szeged/applied-mathematics-1242', 'www.study.eu/university/linnaeus-university/aquatic-ecolog', 'www.study.eu/university/linnaeus-university/applied-mathematic', 'www.study.eu/university/linnaeus-university/business-process-control-and-supply-chain-management-frontie-e39c1215-498a-492e-aeb7-c64b4b0f0e4', 'www.study.eu/university/linnaeus-university/chemistry-737', 'www.study.eu/university/linnaeus-university/design-chang', 'www.study.eu/university/linnaeus-university/design-change-743', 'www.study.eu/university/linnaeus-university/visual-communication-chang', 'www.study.eu/university/linnaeus-university/international-business-1747', 'www.study.eu/university/linnaeus-university/international-tourism-management-5e0219f2-38e8-4e48-9508-9430ad8ded0', 'www.study.eu/university/linnaeus-university/marketing-777', 'www.study.eu/university/linnaeus-university/network-securit', 'www.study.eu/university/linnaeus-university/software-technology-796', 'www.study.eu/university/linnaeus-university/innovation-through-business-engineering-and-design-specialis-7f0b6e6d-932e-4af7-bb8f-4b7faae1fa6', 'www.study.eu/university/linnaeus-university/economics-1746', 'www.study.eu/university/linnaeus-university/entrepreneurship-sustainability-and-social-chang', 'www.study.eu/university/linnaeus-university/innovation-through-business-engineering-and-design-speciali', 'www.study.eu/university/linnaeus-university/international-business-strateg', 'www.study.eu/university/linnaeus-university/leadership-and-management-in-international-contexts-1-yea', 'www.study.eu/university/linnaeus-university/marketing-776', 'www.study.eu/university/linnaeus-university/tourism-and-sustainabilit', 'www.study.eu/university/linnaeus-university/digital-humanities-onlin', 'www.study.eu/university/linnaeus-university/information-systems-762', 'www.study.eu/university/linnaeus-university/information-systems-onlin', 'www.study.eu/university/linnaeus-university/information-systems-online-1-yea', 'www.study.eu/university/linnaeus-university/mathematics-and-modelling-algebra-with-cryptography-and-cod', 'www.study.eu/university/linnaeus-university/social-media-and-web-technologie', 'www.study.eu/university/linnaeus-university/social-media-and-web-technologies-onlin', 'www.study.eu/university/linnaeus-university/software-technolog', 'www.study.eu/university/linnaeus-university/software-technology-1-yea', 'www.study.eu/university/linnaeus-university/electrical-engineering-specialisation-signal-processing-wav', 'www.study.eu/university/linnaeus-university/innovation-through-business-engineering-and-design-specialis-d7b689e0-e8f1-475d-8e5c-4756f31280a', 'www.study.eu/university/linnaeus-university/renewable-electric-power-system', 'www.study.eu/university/linnaeus-university/simulation-driven-product-developmen', 'www.study.eu/university/linnaeus-university/environmental-science-and-sustainabilit', 'www.study.eu/university/linnaeus-university/english-language-and-literature-218cafa3-586b-4501-9a26-ff73d7d3054', 'www.study.eu/university/linnaeus-university/health-scienc', 'www.study.eu/university/linnaeus-university/chemistry-1-yea', 'www.study.eu/university/linnaeus-university/mathematics-and-modelling-analysis-and-mathematical-physic', 'www.study.eu/university/linnaeus-university/mathematics-and-modelling-mathematical-statistics-and-finan', 'www.study.eu/university/linnaeus-university/physics-787', 'www.study.eu/university/linnaeus-university/physics-onlin', 'www.study.eu/university/linnaeus-university/peace-and-development-work-1-yea', 'www.study.eu/university/global-campus-of-human-rights/european-master-s-programme-in-human-rights-and-democratisa', 'www.study.eu/university/cife/global-energy-transition-and-governanc']\n",
            "Precision cluster [42687545, 28564986, 23187026, 64276930, '*', 915566, 32814414, '*'] : 1.0\n",
            "['*', 28564986, 23187026, 64276930, '*', 915566, 32814414, 103948995] ['www.study.eu/university/chalmers-university-of-technology/architecture-and-urban-design-731', 'www.study.eu/university/chalmers-university-of-technology/design-and-construction-project-managemen', 'www.study.eu/university/chalmers-university-of-technology/industrial-design-engineering-760', 'www.study.eu/university/chalmers-university-of-technology/structural-engineering-and-building-technolog', 'www.study.eu/university/chalmers-university-of-technology/entrepreneurship-and-business-desig', 'www.study.eu/university/chalmers-university-of-technology/international-project-managemen', 'www.study.eu/university/chalmers-university-of-technology/management-and-economics-of-innovatio', 'www.study.eu/university/chalmers-university-of-technology/maritime-management-776', 'www.study.eu/university/chalmers-university-of-technology/product-developmen', 'www.study.eu/university/chalmers-university-of-technology/supply-chain-managemen', 'www.study.eu/university/chalmers-university-of-technology/computer-science-algorithms-languages-and-logi', 'www.study.eu/university/chalmers-university-of-technology/computer-systems-and-network', 'www.study.eu/university/chalmers-university-of-technology/interaction-design-and-technologie', 'www.study.eu/university/chalmers-university-of-technology/software-engineering-and-technolog', 'www.study.eu/university/chalmers-university-of-technology/automotive-engineerin', 'www.study.eu/university/chalmers-university-of-technology/communication-engineerin', 'www.study.eu/university/chalmers-university-of-technology/complex-adaptive-systems-740', 'www.study.eu/university/chalmers-university-of-technology/design-for-sustainable-developmen', 'www.study.eu/university/chalmers-university-of-technology/electric-power-engineering-747', 'www.study.eu/university/chalmers-university-of-technology/embedded-electronic-system-desig', 'www.study.eu/university/chalmers-university-of-technology/industrial-ecolog', 'www.study.eu/university/chalmers-university-of-technology/infrastructure-and-environmental-engineerin', 'www.study.eu/university/chalmers-university-of-technology/innovative-and-sustainable-chemical-engineerin', 'www.study.eu/university/chalmers-university-of-technology/materials-engineering-777', 'www.study.eu/university/chalmers-university-of-technology/nanotechnolog', 'www.study.eu/university/chalmers-university-of-technology/naval-architecture-and-ocean-engineerin', 'www.study.eu/university/chalmers-university-of-technology/nuclear-science-and-technolog', 'www.study.eu/university/chalmers-university-of-technology/production-engineering-790', 'www.study.eu/university/chalmers-university-of-technology/quality-and-operations-managemen', 'www.study.eu/university/chalmers-university-of-technology/sustainable-energy-system', 'www.study.eu/university/chalmers-university-of-technology/systems-control-and-mechatronic', 'www.study.eu/university/chalmers-university-of-technology/wireless-photonics-and-space-engineerin', 'www.study.eu/university/chalmers-university-of-technology/biomedical-engineering-735', 'www.study.eu/university/chalmers-university-of-technology/applied-mechanic', 'www.study.eu/university/chalmers-university-of-technology/applied-physics-730', 'www.study.eu/university/chalmers-university-of-technology/biotechnology-735', 'www.study.eu/university/chalmers-university-of-technology/engineering-mathematics-and-computational-scienc', 'www.study.eu/university/chalmers-university-of-technology/materials-chemistr', 'www.study.eu/university/chalmers-university-of-technology/physics-and-astronomy-788', 'www.study.eu/university/chalmers-university-of-technology/sound-and-vibratio', 'www.study.eu/university/falmouth-university/acting-1073', 'www.study.eu/university/falmouth-university/fine-art-1075', 'www.study.eu/university/university-of-kent/architectural-conservatio', 'www.study.eu/university/university-of-kent/architectural-visualisatio', 'www.study.eu/university/university-of-kent/accounting-and-finance-and-economic', 'www.study.eu/university/university-of-kent/accounting-and-finance-and-economics-with-a-year-in-industr', 'www.study.eu/university/university-of-kent/actuarial-science-492', 'www.study.eu/university/university-of-kent/advanced-computer-science-03777b97-4a37-4b86-8505-1ed48537576', 'www.study.eu/university/university-of-kent/advanced-computer-science-computational-intelligenc', 'www.study.eu/university/university-of-kent/applied-bioscienc', 'www.study.eu/university/university-of-kent/biomedical-engineering-aa3a5a92-dcf2-4c90-a89b-35f310df635', 'www.study.eu/university/university-of-kent/biomedical-engineering-by-research-and-thesi', 'www.study.eu/university/university-of-kent/agri-environmental-economic', 'www.study.eu/university/university-of-kent/american-studies-b25f565d-9b45-4d95-8156-bd58bcf5019', 'www.study.eu/university/university-of-kent/applied-linguistics-with-tesol-teaching-english-to-speakers', 'www.study.eu/university/university-of-kent/criminal-justice-and-criminolog', 'www.study.eu/university/university-of-kent/english-and-french-la', 'www.study.eu/university/university-of-kent/advanced-and-specialist-healthcare-advanced-dental-clinical', 'www.study.eu/university/university-of-kent/advanced-and-specialist-healthcare-applied-dental-professio', 'www.study.eu/university/university-of-kent/biomedical-engineering-including-a-foundation-yea', 'www.study.eu/university/university-of-kent/advanced-child-protectio', 'www.study.eu/university/university-of-kent/advanced-research-in-criminolog', 'www.study.eu/university/university-of-kent/analysis-and-intervention-in-intellectual-and-developmental', 'www.study.eu/university/university-of-kent/anthropology-by-researc', 'www.study.eu/university/kdg-university-of-applied-sciences-and-arts/applied-computer-science-1230', 'www.study.eu/university/code-university-of-applied-sciences/interaction-design-1018', 'www.study.eu/university/code-university-of-applied-sciences/product-managemen', 'www.study.eu/university/code-university-of-applied-sciences/software-engineering-1017']\n",
            "Precision cluster ['*', 28564986, 23187026, 64276930, '*', 915566, 32814414, 103948995] : 1.0\n",
            "['*', 28564986, 23187026, 64276930, 68949168, 915566, 32814414, '*'] ['www.study.eu/university/university-of-kent/accounting-and-finance-75c0e4e0-ed39-4e47-87ab-4e068fb3522', 'www.study.eu/university/university-of-kent/biodiversity-management-by-researc', 'www.study.eu/university/university-of-kent/ancient-history-7c171c10-17ea-4763-a4bf-265740064ac', 'www.study.eu/university/university-of-kent/european-legal-studie', 'www.study.eu/university/university-of-kent/european-legal-studies-with-germa', 'www.study.eu/university/university-of-kent/european-legal-studies-with-italia', 'www.study.eu/university/university-of-kent/european-legal-studies-with-spanis', 'www.study.eu/university/university-of-kent/astronomy-space-science-and-astrophysics-a6a29dc0-f83a-41cb-8f28-9b6741843a2', 'www.study.eu/university/university-of-kent/astronomy-space-science-and-astrophysics-with-a-year-abroa', 'www.study.eu/university/university-of-kent/astronomy-space-science-and-astrophysics-with-a-year-in-ind']\n",
            "Precision cluster ['*', 28564986, 23187026, 64276930, 68949168, 915566, 32814414, '*'] : 1.0\n",
            "Precision study : 0.9816232771822359 ; Recall study : 0.865047233468286 ; F1 : 0.9196556671449067\n"
          ],
          "name": "stdout"
        }
      ]
    },
    {
      "cell_type": "code",
      "metadata": {
        "id": "I1anvepW62mB"
      },
      "source": [
        ""
      ],
      "execution_count": null,
      "outputs": []
    }
  ]
}
